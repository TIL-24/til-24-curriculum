{
 "cells": [
  {
   "cell_type": "markdown",
<<<<<<< HEAD
   "metadata": {},
   "source": [
<<<<<<< HEAD
    "# Notebook on fine-tuning of OWL ViT\n",
=======
    "# Fine-Tune ViT for Image Classification with Hugging Face Transformers\n",
>>>>>>> 21a79a7 (committing owl_vit_fine_tune)
    "\n",
    "- OWL-ViT (short for Vision Transformer for Open-World Localization) "
   ]
  },
  {
   "cell_type": "markdown",
   "metadata": {},
   "source": [
    "# References\n",
    "- https://huggingface.co/blog/fine-tune-vit\n",
    "- https://github.com/huggingface/transformers/issues/28778\n",
    "- https://github.com/bwconrad/vit-finetune\n",
    "- https://medium.com/@supersjgk/fine-tuning-vision-transformer-with-hugging-face-and-pytorch-df19839d5396"
   ]
  },
  {
<<<<<<< HEAD
   "cell_type": "code",
   "execution_count": 1,
   "metadata": {},
=======
   "cell_type": "markdown",
   "metadata": {},
   "source": [
    "# Environment Setup"
   ]
  },
  {
   "cell_type": "code",
   "execution_count": 83,
   "metadata": {
    "scrolled": true,
    "tags": []
   },
   "outputs": [],
   "source": [
    "%%capture\n",
    "!pip install -r ../requirements.txt"
   ]
  },
  {
   "cell_type": "markdown",
=======
   "id": "65636d9e-561d-488a-a233-705b5a656e61",
>>>>>>> 38f5603 (Rename notebooks)
   "metadata": {},
   "source": [
    "# Library"
   ]
  },
  {
   "cell_type": "code",
<<<<<<< HEAD
   "execution_count": 84,
   "metadata": {
    "tags": []
   },
>>>>>>> 21a79a7 (committing owl_vit_fine_tune)
   "outputs": [],
=======
   "execution_count": 1,
   "id": "67f8e931-4766-4b9a-8aed-b1e6e1371892",
   "metadata": {},
   "outputs": [
    {
     "name": "stdout",
     "output_type": "stream",
     "text": [
      "cuda\n"
     ]
    }
   ],
>>>>>>> 38f5603 (Rename notebooks)
   "source": [
    "import torch\n",
    "device = torch.device(\"cuda\" if torch.cuda.is_available() else \"cpu\")\n",
    "print(device)"
   ]
  },
  {
   "cell_type": "markdown",
   "id": "410a1cfa-94ab-47aa-85d5-e9ec6c2c363c",
   "metadata": {},
   "source": [
    "logging"
   ]
  },
  {
   "cell_type": "code",
   "execution_count": 2,
   "id": "6d19b0e8-8f40-44e2-9764-96b30f0f6471",
   "metadata": {
    "tags": []
   },
   "outputs": [],
   "source": [
    "import logging\n",
    "\n",
    "# Configure logging (example for `logging` module)\n",
    "logging.basicConfig(\n",
    "    level=logging.WARNING,  # Adjust as needed (DEBUG, INFO, WARNING, ERROR, CRITICAL)\n",
    "    format='%(asctime)s - %(name)s - %(levelname)s - %(message)s'\n",
    ")\n"
   ]
  },
  {
   "cell_type": "markdown",
   "id": "61a87514-3897-4902-99ac-24119117cd8e",
   "metadata": {},
   "source": [
    "# References\n",
    "- https://github.com/huggingface/transformers/issues/28778\n",
    "- https://github.com/NielsRogge/Transformers-Tutorials/blob/master/DETR/Fine_tuning_DetrForObjectDetection_on_custom_dataset_(balloon).ipynb\n",
    "\n",
    "Also helpful, but through google's research scenic repo\n",
    "- https://github.com/google-research/scenic/issues/542\n"
   ]
  },
  {
   "cell_type": "markdown",
   "id": "71eb3176-f38d-4fdf-bee7-43bf6d1e6997",
   "metadata": {},
   "source": [
    "# Data\n",
    "\n",
    "- https://huggingface.co/datasets/cppe-5\n",
    "\n",
    "## Dataset Summary\n",
    "\n",
    "CPPE - 5 (Medical Personal Protective Equipment) is a new challenging dataset with the goal to allow the study of subordinate categorization of medical personal protective equipments, which is not possible with other popular data sets that focus on broad level categories.\n",
    "\n",
    "Some features of this dataset are:\n",
    "\n",
    "- high quality images and annotations (~4.6 bounding boxes per image)\n",
    "- real-life images unlike any current such dataset\n",
    "- majority of non-iconic images (allowing easy deployment to real-world environments)"
   ]
  },
  {
   "cell_type": "code",
   "execution_count": 3,
   "id": "c1af8836-9989-4309-b577-b9ff89befc9f",
   "metadata": {
    "tags": []
   },
   "outputs": [
    {
     "name": "stdout",
     "output_type": "stream",
     "text": [
      "['Coverall', 'Face_Shield', 'Gloves', 'Goggles', 'Mask']\n"
     ]
    }
   ],
   "source": [
    "from datasets import load_dataset\n",
    "cppe5 = load_dataset(\"cppe-5\")\n",
    "\n",
    "categories = cppe5[\"train\"].features[\"objects\"].feature[\"category\"].names\n",
    "id2label = {index: x for index, x in enumerate(categories, start=0)}\n",
    "label2id = {v: k for k, v in id2label.items()}\n",
    "\n",
    "id2label\n",
    "text_inputs =list(id2label.values())\n",
    "print(text_inputs)\n"
   ]
  },
  {
   "cell_type": "markdown",
   "id": "5b6e96c4-f4f2-42b3-bdda-2d9e8dd230f5",
   "metadata": {},
   "source": [
    "As a final step of getting familiar with the data, explore it for potential issues. One common problem with datasets for object detection is bounding boxes that “stretch” beyond the edge of the image. Such “runaway” bounding boxes can raise errors during training and should be addressed at this stage. There are a few examples with this issue in this dataset. To keep things simple in this guide, we remove these images from the data."
   ]
  },
  {
   "cell_type": "code",
   "execution_count": 4,
   "id": "8e915d8d-6a11-445c-8645-4c6af367b731",
   "metadata": {},
   "outputs": [],
   "source": [
    "remove_idx = [590, 821, 822, 875, 876, 878, 879]\n",
    "keep = [i for i in range(len(cppe5[\"train\"])) if i not in remove_idx]"
   ]
  },
  {
   "cell_type": "markdown",
   "id": "6dca8a45-0757-451e-a274-8d03089a3a2b",
   "metadata": {},
   "source": [
    "Let's limit to only 100 training images"
   ]
  },
  {
   "cell_type": "code",
   "execution_count": 5,
   "id": "222a3513-244c-4bf0-b2ed-62d5d8fba9e6",
   "metadata": {},
   "outputs": [],
   "source": [
    "keep = keep[0:100]\n",
    "cppe5[\"train\"] = cppe5[\"train\"].select(keep)"
   ]
  },
  {
   "cell_type": "code",
   "execution_count": 6,
   "id": "21d7eca6-5129-4964-8ae4-faa3fdc68d26",
   "metadata": {
    "tags": []
   },
   "outputs": [],
   "source": [
    "from transformers import AutoImageProcessor\n",
    "from transformers import AutoProcessor\n",
    "\n",
    "# using image processor from detr\n",
    "image_processor = AutoImageProcessor.from_pretrained(\"facebook/detr-resnet-50\")\n",
    "\n",
    "checkpoint = \"google/owlvit-base-patch32\"\n",
    "processor = AutoProcessor.from_pretrained(checkpoint)\n",
    "\n",
    "from transformers import AutoModelForZeroShotObjectDetection\n",
    "\n",
    "model = AutoModelForZeroShotObjectDetection.from_pretrained(\n",
    "    checkpoint,\n",
    "    id2label=id2label,\n",
    "    label2id=label2id,\n",
    "    ignore_mismatched_sizes=True,\n",
    ")\n",
    "model.to(device)\n",
    "\n",
    "\n",
    "\n",
    "import albumentations\n",
    "import numpy as np\n",
<<<<<<< HEAD
    "# Evaluation\n",
    "from sklearn.metrics import accuracy_score\n",
    "from sklearn.metrics import confusion_matrix, ConfusionMatrixDisplay"
   ]
  },
  {
   "cell_type": "markdown",
   "metadata": {},
   "source": [
    "# Objective\n",
<<<<<<< HEAD
    "- fine tuning on CIFAR-10 dataset using Vision Transformer (ViT) model\n",
    "- CIFAR-10 data has only 10 output classes and images of size 3x32x32"
=======
=======
>>>>>>> 38f5603 (Rename notebooks)
    "\n",
    "transform = albumentations.Compose(\n",
    "    [\n",
    "        albumentations.Resize(480, 480),\n",
    "        albumentations.HorizontalFlip(p=1.0),\n",
    "        albumentations.RandomBrightnessContrast(p=1.0),\n",
    "    ],\n",
    "    bbox_params=albumentations.BboxParams(format=\"coco\", label_fields=[\"category\"]),\n",
    ")\n",
    "\n",
<<<<<<< HEAD
    "Adapt the model for the CIFAR-10 dataset, which consists of:\n",
    "- 10 output classes\n",
    "- Images of size 3x32x32"
>>>>>>> 21a79a7 (committing owl_vit_fine_tune)
   ]
  },
  {
   "cell_type": "markdown",
   "metadata": {},
   "source": [
<<<<<<< HEAD
    "# Data"
=======
    "# CIFAR-10 Data\n",
    "- Loading and Splitting\n",
    "- We are only using a small subset of the dataset, as this is intended for demonstration purpose."
>>>>>>> 21a79a7 (committing owl_vit_fine_tune)
=======
    "def formatted_anns(image_id, category, area, bbox):\n",
    "    annotations = []\n",
    "    for i in range(0, len(category)):\n",
    "        new_ann = {\n",
    "            \"image_id\": image_id,\n",
    "            \"category_id\": category[i],\n",
    "            \"isCrowd\": 0,\n",
    "            \"area\": area[i],\n",
    "            \"bbox\": list(bbox[i]),\n",
    "        }\n",
    "        annotations.append(new_ann)\n",
    "\n",
    "    return annotations\n",
    "\n",
    "# transforming a batch\n",
    "def transform_aug_ann(examples):\n",
    "    image_ids = examples[\"image_id\"]\n",
    "    images, bboxes, area, categories = [], [], [], []\n",
    "    transformed_data = []\n",
    "    for image, objects in zip(examples[\"image\"], examples[\"objects\"]):\n",
    "        image = np.array(image.convert(\"RGB\"))[:, :, ::-1]\n",
    "        out = transform(image=image, bboxes=objects[\"bbox\"], category=objects[\"category\"])\n",
    "\n",
    "        area.append(objects[\"area\"])\n",
    "        images.append(out[\"image\"])\n",
    "        bboxes.append(out[\"bboxes\"])\n",
    "        categories.append(out[\"category\"])\n",
    "        transformed_data.append(processor(text=text_inputs, images=image, return_tensors=\"pt\"))\n",
    "\n",
    "    \n",
    "    return {\"transformed_data\":transformed_data}\n",
    "\n",
    "# transforming a batch\n",
    "def transform_aug_ann_labels(examples):\n",
    "    image_ids = examples[\"image_id\"]\n",
    "    images, bboxes, area, categories = [], [], [], []\n",
    "    for image, objects in zip(examples[\"image\"], examples[\"objects\"]):\n",
    "        image = np.array(image.convert(\"RGB\"))[:, :, ::-1]\n",
    "        out = transform(image=image, bboxes=objects[\"bbox\"], category=objects[\"category\"])\n",
    "\n",
    "        area.append(objects[\"area\"])\n",
    "        images.append(out[\"image\"])\n",
    "        bboxes.append(out[\"bboxes\"])\n",
    "        categories.append(out[\"category\"])\n",
    "\n",
    "    targets = [\n",
    "        {\"image_id\": id_, \"annotations\": formatted_anns(id_, cat_, ar_, box_)}\n",
    "        for id_, cat_, ar_, box_ in zip(image_ids, categories, area, bboxes)\n",
    "    ]\n",
    "\n",
    "    return image_processor(images=images, annotations=targets, return_tensors=\"pt\")\n",
    "\n",
    "transform_1 = cppe5[\"train\"].with_transform(transform_aug_ann)\n",
    "transform_2 = cppe5[\"train\"].with_transform(transform_aug_ann_labels)"
>>>>>>> 38f5603 (Rename notebooks)
   ]
  },
  {
   "cell_type": "code",
<<<<<<< HEAD
<<<<<<< HEAD
   "execution_count": 2,
   "metadata": {},
   "outputs": [
    {
     "data": {
      "application/vnd.jupyter.widget-view+json": {
       "model_id": "8e326cb802c8497db375b83e35b43ef3",
       "version_major": 2,
       "version_minor": 0
      },
      "text/plain": [
       "Downloading readme:   0%|          | 0.00/5.16k [00:00<?, ?B/s]"
      ]
     },
     "metadata": {},
     "output_type": "display_data"
    },
    {
     "data": {
      "application/vnd.jupyter.widget-view+json": {
       "model_id": "90c1fef17c81408aab7ca3127c8d543f",
       "version_major": 2,
       "version_minor": 0
      },
      "text/plain": [
       "Downloading data:   0%|          | 0.00/120M [00:00<?, ?B/s]"
      ]
     },
     "metadata": {},
     "output_type": "display_data"
    },
    {
     "data": {
      "application/vnd.jupyter.widget-view+json": {
       "model_id": "cb30905d8f2148de8b169a558be54040",
       "version_major": 2,
       "version_minor": 0
      },
      "text/plain": [
       "Downloading data:   0%|          | 0.00/23.9M [00:00<?, ?B/s]"
      ]
     },
     "metadata": {},
     "output_type": "display_data"
    },
    {
     "data": {
      "application/vnd.jupyter.widget-view+json": {
       "model_id": "c0e0d9e552a74d2aad4fe36756a24b58",
       "version_major": 2,
       "version_minor": 0
      },
      "text/plain": [
       "Generating train split:   0%|          | 0/50000 [00:00<?, ? examples/s]"
      ]
     },
     "metadata": {},
     "output_type": "display_data"
    },
    {
     "data": {
      "application/vnd.jupyter.widget-view+json": {
       "model_id": "7938c0d33f4441ebbf8cfbc7a19bbbb2",
       "version_major": 2,
       "version_minor": 0
      },
      "text/plain": [
       "Generating test split:   0%|          | 0/10000 [00:00<?, ? examples/s]"
      ]
     },
     "metadata": {},
     "output_type": "display_data"
    },
    {
     "data": {
      "text/plain": [
       "(Dataset({\n",
       "     features: ['img', 'label'],\n",
       "     num_rows: 4500\n",
       " }),\n",
       " Dataset({\n",
       "     features: ['img', 'label'],\n",
       "     num_rows: 500\n",
       " }),\n",
       " Dataset({\n",
       "     features: ['img', 'label'],\n",
       "     num_rows: 1000\n",
       " }))"
      ]
     },
     "execution_count": 2,
     "metadata": {},
     "output_type": "execute_result"
    }
   ],
   "source": [
    "trainds, testds = load_dataset(\"cifar10\", split=[\"train[:5000]\",\"test[:1000]\"])\n",
    "splits = trainds.train_test_split(test_size=0.1)\n",
    "trainds = splits['train']\n",
    "valds = splits['test']\n",
    "trainds, valds, testds"
=======
   "execution_count": 85,
   "metadata": {
    "tags": []
   },
=======
   "execution_count": 7,
   "id": "ca23e6e6-16b1-42e7-814c-2a05763aa67e",
   "metadata": {},
>>>>>>> 38f5603 (Rename notebooks)
   "outputs": [
    {
     "name": "stderr",
     "output_type": "stream",
     "text": [
      "The `max_size` parameter is deprecated and will be removed in v4.26. Please specify in `size['longest_edge'] instead`.\n"
     ]
    }
   ],
   "source": [
    "import pandas as pd\n",
    "from datasets import Dataset\n",
    "\n",
<<<<<<< HEAD
    "print(f\"{train_ds.num_rows = }\")\n",
    "print(f\"{val_ds.num_rows = }\")\n",
    "print(f\"{test_ds.num_rows} = \")"
>>>>>>> 21a79a7 (committing owl_vit_fine_tune)
   ]
  },
  {
   "cell_type": "markdown",
   "metadata": {},
   "source": [
    "## Basic data exploration"
   ]
  },
  {
   "cell_type": "code",
<<<<<<< HEAD
   "execution_count": 3,
   "metadata": {},
   "outputs": [
    {
     "data": {
      "text/plain": [
       "({'img': Image(decode=True, id=None),\n",
       "  'label': ClassLabel(names=['airplane', 'automobile', 'bird', 'cat', 'deer', 'dog', 'frog', 'horse', 'ship', 'truck'], id=None)},\n",
       " 4500,\n",
       " {'img': <PIL.PngImagePlugin.PngImageFile image mode=RGB size=32x32>,\n",
       "  'label': 9})"
      ]
     },
     "execution_count": 3,
     "metadata": {},
     "output_type": "execute_result"
    }
   ],
   "source": [
    "trainds.features, trainds.num_rows, trainds[0]"
=======
   "execution_count": 86,
   "metadata": {
    "tags": []
   },
   "outputs": [
    {
     "name": "stdout",
     "output_type": "stream",
     "text": [
      "train_ds.features['label'] = ClassLabel(names=['airplane', 'automobile', 'bird', 'cat', 'deer', 'dog', 'frog', 'horse', 'ship', 'truck'], id=None)\n",
      "train_ds.num_rows = 4500\n",
      "{'img': <PIL.PngImagePlugin.PngImageFile image mode=RGB size=32x32 at 0x7F6EB2673970>, 'label': 5} = \n"
     ]
    }
   ],
   "source": [
    "print(f\"{train_ds.features['label'] = }\")\n",
    "print(f\"{train_ds.num_rows = }\")\n",
    "print(f\"{train_ds[0]} = \")\n",
    "# train_ds.num_rows, train_ds[0]"
>>>>>>> 21a79a7 (committing owl_vit_fine_tune)
   ]
  },
  {
   "cell_type": "code",
<<<<<<< HEAD
   "execution_count": 4,
   "metadata": {},
=======
   "execution_count": 87,
   "metadata": {
    "tags": []
   },
>>>>>>> 21a79a7 (committing owl_vit_fine_tune)
   "outputs": [
    {
     "data": {
      "text/plain": [
       "{0: 'airplane',\n",
       " 1: 'automobile',\n",
       " 2: 'bird',\n",
       " 3: 'cat',\n",
       " 4: 'deer',\n",
       " 5: 'dog',\n",
       " 6: 'frog',\n",
       " 7: 'horse',\n",
       " 8: 'ship',\n",
       " 9: 'truck'}"
      ]
     },
<<<<<<< HEAD
     "execution_count": 4,
=======
     "execution_count": 87,
>>>>>>> 21a79a7 (committing owl_vit_fine_tune)
     "metadata": {},
     "output_type": "execute_result"
    }
   ],
   "source": [
<<<<<<< HEAD
    "itos = dict((k,v) for k,v in enumerate(trainds.features['label'].names))\n",
    "stoi = dict((v,k) for k,v in enumerate(trainds.features['label'].names))\n",
    "itos"
=======
    "# Dictionary to encode the labels into numbers, both ways\n",
    "label_encoding = dict((k,v) for k,v in enumerate(trainds.features['label'].names))\n",
    "label_decoding = dict((v,k) for k,v in enumerate(trainds.features['label'].names))\n",
    "label_encoding"
>>>>>>> 21a79a7 (committing owl_vit_fine_tune)
   ]
  },
  {
   "cell_type": "markdown",
   "metadata": {},
   "source": [
<<<<<<< HEAD
    "# Plotting the image"
=======
    "# Plotting the image\n",
    "- displaying an image and its corresponding label"
>>>>>>> 21a79a7 (committing owl_vit_fine_tune)
   ]
  },
  {
   "cell_type": "code",
<<<<<<< HEAD
   "execution_count": 5,
   "metadata": {},
=======
   "execution_count": 88,
   "metadata": {
    "tags": []
   },
>>>>>>> 21a79a7 (committing owl_vit_fine_tune)
   "outputs": [
    {
     "name": "stdout",
     "output_type": "stream",
     "text": [
<<<<<<< HEAD
      "truck\n"
=======
      "horse\n"
>>>>>>> 21a79a7 (committing owl_vit_fine_tune)
     ]
    },
    {
     "data": {
<<<<<<< HEAD
      "image/jpeg": "/9j/4AAQSkZJRgABAQAAAQABAAD/2wBDAAgGBgcGBQgHBwcJCQgKDBQNDAsLDBkSEw8UHRofHh0aHBwgJC4nICIsIxwcKDcpLDAxNDQ0Hyc5PTgyPC4zNDL/2wBDAQkJCQwLDBgNDRgyIRwhMjIyMjIyMjIyMjIyMjIyMjIyMjIyMjIyMjIyMjIyMjIyMjIyMjIyMjIyMjIyMjIyMjL/wAARCAAgACADASIAAhEBAxEB/8QAHwAAAQUBAQEBAQEAAAAAAAAAAAECAwQFBgcICQoL/8QAtRAAAgEDAwIEAwUFBAQAAAF9AQIDAAQRBRIhMUEGE1FhByJxFDKBkaEII0KxwRVS0fAkM2JyggkKFhcYGRolJicoKSo0NTY3ODk6Q0RFRkdISUpTVFVWV1hZWmNkZWZnaGlqc3R1dnd4eXqDhIWGh4iJipKTlJWWl5iZmqKjpKWmp6ipqrKztLW2t7i5usLDxMXGx8jJytLT1NXW19jZ2uHi4+Tl5ufo6erx8vP09fb3+Pn6/8QAHwEAAwEBAQEBAQEBAQAAAAAAAAECAwQFBgcICQoL/8QAtREAAgECBAQDBAcFBAQAAQJ3AAECAxEEBSExBhJBUQdhcRMiMoEIFEKRobHBCSMzUvAVYnLRChYkNOEl8RcYGRomJygpKjU2Nzg5OkNERUZHSElKU1RVVldYWVpjZGVmZ2hpanN0dXZ3eHl6goOEhYaHiImKkpOUlZaXmJmaoqOkpaanqKmqsrO0tba3uLm6wsPExcbHyMnK0tPU1dbX2Nna4uPk5ebn6Onq8vP09fb3+Pn6/9oADAMBAAIRAxEAPwDqfhL4g1LXdN1L+0Z/Pa3uAqMRggEdK6/xFo+oa1bQwWWsT6dtYmRoRy4x0znivCPh/qVlGt2kutJp8hnz88mzcNpwffnFd3e/EWDw54Nkl/tG2vdWJ8uJEnEvJ/iOOwH61o9rmUXrax2ltod9b2b2M+py3Vu8SBHm/wBYrD73PcHANct8VFeLT4bqe8mjsAUi8qGbYxkLE7vpgYry3RfiJ4jh1kzy6rOwuAVYSHeqZ6MAeMg4qfWtYvtchRdSubm9SKQbvNIRdwOMgAdOTipvdFbMp+MIbGDRykENsskk4wyKu7jJPIrhVfaoXy1znlsZ713n/CAXkyzSM67j80YXJDHPc1jXPg7WYWI+wSk+qjIrPnUjRQcUZaW7XEcRjB3LJ2Gc9K9F0bTlu7OJrnEgDbsYIw2c1D4L8L3UFvNLqVoVJYeWj/qcV2ogEQVcD6AVlUm27I1pwSV2f//Z",
      "image/png": "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",
      "text/plain": [
       "<PIL.PngImagePlugin.PngImageFile image mode=RGB size=32x32>"
      ]
     },
     "execution_count": 5,
     "metadata": {},
     "output_type": "execute_result"
    }
   ],
   "source": [
    "index = 0\n",
    "img, lab = trainds[index]['img'], itos[trainds[index]['label']]\n",
    "print(lab)\n",
    "img"
   ]
  },
  {
   "cell_type": "code",
   "execution_count": 6,
   "metadata": {},
   "outputs": [],
   "source": [
    "model_name = \"google/vit-base-patch16-224\"\n",
    "processor = ViTImageProcessor.from_pretrained(model_name) \n",
    "\n",
    "mu, sigma = processor.image_mean, processor.image_std #get default mu,sigma\n",
    "size = processor.size"
=======
      "text/plain": [
       "<matplotlib.image.AxesImage at 0x7f6eb2673a00>"
      ]
     },
     "execution_count": 88,
     "metadata": {},
     "output_type": "execute_result"
    },
    {
     "data": {
      "image/png": "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",
      "text/plain": [
       "<Figure size 640x480 with 1 Axes>"
      ]
     },
     "metadata": {},
     "output_type": "display_data"
    }
   ],
   "source": [
    "index = 1\n",
    "img, label = train_ds[index]['img'], label_encoding[train_ds[index]['label']]\n",
    "print(label)\n",
    "plt.imshow(img)"
>>>>>>> 21a79a7 (committing owl_vit_fine_tune)
   ]
  },
  {
   "cell_type": "markdown",
   "metadata": {},
   "source": [
    "# Image transform"
   ]
  },
  {
   "cell_type": "code",
<<<<<<< HEAD
   "execution_count": 7,
   "metadata": {},
   "outputs": [],
   "source": [
    "norm = Normalize(mean=mu, std=sigma) #normalize image pixels range to [-1,1]\n",
    "\n",
    "# resize 3x32x32 to 3x224x224 -> convert to Pytorch tensor -> normalize\n",
    "_transf = Compose([\n",
    "    Resize(size['height']),\n",
    "    ToTensor(),\n",
    "    norm\n",
=======
   "execution_count": 91,
   "metadata": {
    "tags": []
   },
   "outputs": [],
   "source": [
    "# get parameters for image pre-transform before model\n",
    "model_name = \"google/vit-base-patch16-224\"\n",
    "processor = ViTImageProcessor.from_pretrained(model_name)\n",
    "mu, sigma = processor.image_mean, processor.image_std #get default mu,sigma\n",
    "size = processor.size\n",
    "height = size['height']\n",
    "\n",
    "# pre-transform the image to the pretrained data and model input size.\n",
    "# resize 3x32x32 to 3x224x224 -> convert to Pytorch tensor -> normalize\n",
    "_transf = torchvision.transforms.Compose([\n",
    "    torchvision.transforms.Resize(size['height']),\n",
    "    torchvision.transforms.ToTensor(),\n",
    "    torchvision.transforms.Normalize(mean=mu, std=sigma)\n",
>>>>>>> 21a79a7 (committing owl_vit_fine_tune)
    "]) \n",
    "\n",
    "# apply transforms to PIL Image and store it to 'pixels' key\n",
    "def transf(arg):\n",
    "    arg['pixels'] = [_transf(image.convert('RGB')) for image in arg['img']]\n",
    "    return arg"
   ]
  },
  {
<<<<<<< HEAD
   "cell_type": "code",
   "execution_count": 8,
   "metadata": {},
   "outputs": [],
   "source": [
    "trainds.set_transform(transf)\n",
    "valds.set_transform(transf)\n",
    "testds.set_transform(transf)"
=======
   "cell_type": "markdown",
   "metadata": {
    "tags": []
   },
   "source": [
    "applying the transformation to each datasets"
   ]
  },
  {
   "cell_type": "code",
   "execution_count": 92,
   "metadata": {
    "tags": []
   },
   "outputs": [],
   "source": [
    "train_ds.set_transform(transf)\n",
    "val_ds.set_transform(transf)\n",
    "test_ds.set_transform(transf)"
>>>>>>> 21a79a7 (committing owl_vit_fine_tune)
   ]
  },
  {
   "cell_type": "markdown",
   "metadata": {},
   "source": [
    "# Plotting the transformed image"
   ]
  },
  {
   "cell_type": "code",
<<<<<<< HEAD
   "execution_count": 9,
   "metadata": {},
   "outputs": [
    {
     "data": {
      "image/png": "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",
=======
   "execution_count": 93,
   "metadata": {
    "tags": []
   },
   "outputs": [
    {
     "data": {
      "image/png": "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",
>>>>>>> 21a79a7 (committing owl_vit_fine_tune)
      "text/plain": [
       "<Figure size 640x480 with 1 Axes>"
      ]
     },
     "metadata": {},
     "output_type": "display_data"
    }
   ],
   "source": [
    "idx = 0\n",
<<<<<<< HEAD
    "ex = trainds[idx]['pixels']\n",
    "ex = (ex+1)/2 #imshow requires image pixels to be in the range [0,1]\n",
    "exi = ToPILImage()(ex)\n",
    "plt.imshow(exi)\n",
=======
    "ex = train_ds[idx]['pixels']\n",
    "ex = (ex+1)/2 #imshow requires image pixels to be in the range [0,1]\n",
    "exi = ToPILImage()(ex)\n",
    "plt.imshow(img)\n",
>>>>>>> 21a79a7 (committing owl_vit_fine_tune)
    "plt.show()"
   ]
  },
  {
   "cell_type": "markdown",
   "metadata": {},
   "source": [
    "# Original"
   ]
  },
  {
   "cell_type": "code",
<<<<<<< HEAD
   "execution_count": 10,
   "metadata": {},
=======
   "execution_count": 124,
   "metadata": {
    "tags": []
   },
>>>>>>> 21a79a7 (committing owl_vit_fine_tune)
   "outputs": [
    {
     "name": "stdout",
     "output_type": "stream",
     "text": [
<<<<<<< HEAD
=======
      "Predicted class label: 153\n",
>>>>>>> 21a79a7 (committing owl_vit_fine_tune)
      "Linear(in_features=768, out_features=1000, bias=True)\n"
     ]
    }
   ],
   "source": [
    "model_name = \"google/vit-base-patch16-224\"\n",
    "model = ViTForImageClassification.from_pretrained(model_name)\n",
<<<<<<< HEAD
=======
    "# feature_extractor = ViTFeatureExtractor.from_pretrained(model_name)\n",
=======
    "data = []\n",
    "for i in range(len(transform_1)):\n",
    "    dict_ = {}\n",
    "    dict_[\"input_ids\"] = transform_1[i][\"transformed_data\"][\"input_ids\"]\n",
    "    dict_[\"attention_mask\"] = transform_1[i][\"transformed_data\"][\"attention_mask\"]\n",
    "    dict_[\"pixel_values\"] = transform_1[i][\"transformed_data\"][\"pixel_values\"][0]\n",
    "    dict_[\"labels\"] = transform_2[i][\"labels\"]\n",
    "    data.append(dict_)\n",
    "\n",
    "# Preprocessed Training Data\n",
    "train_dataset = Dataset.from_list(data)\n",
    "train_dataset.features\n",
    "\n",
    "# Using Detr-Loss calculation https://github.com/facebookresearch/detr/blob/main/models/matcher.py\n",
    "# https://www.kaggle.com/code/bibhasmondal96/detr-from-scratch\n",
>>>>>>> 38f5603 (Rename notebooks)
    "\n",
    "class BoxUtils(object):\n",
    "    @staticmethod\n",
    "    def box_cxcywh_to_xyxy(x):\n",
    "        x_c, y_c, w, h = x.unbind(-1)\n",
    "        b = [(x_c - 0.5 * w), (y_c - 0.5 * h),\n",
    "             (x_c + 0.5 * w), (y_c + 0.5 * h)]\n",
    "        return torch.stack(b, dim=-1)\n",
    "\n",
    "    @staticmethod\n",
    "    def box_xyxy_to_cxcywh(x):\n",
    "        x0, y0, x1, y1 = x.unbind(-1)\n",
    "        b = [(x0 + x1) / 2, (y0 + y1) / 2,\n",
    "             (x1 - x0), (y1 - y0)]\n",
    "        return torch.stack(b, dim=-1)\n",
    "\n",
    "    @staticmethod\n",
    "    def rescale_bboxes(out_bbox, size):\n",
    "        img_h, img_w = size\n",
    "        b = BoxUtils.box_cxcywh_to_xyxy(out_bbox)\n",
    "        b = b * torch.tensor([img_w, img_h, img_w, img_h], dtype=torch.float32)\n",
    "        return b\n",
    "\n",
    "    @staticmethod\n",
    "    def box_area(boxes):\n",
    "        \"\"\"\n",
    "        Computes the area of a set of bounding boxes, which are specified by its\n",
    "        (x1, y1, x2, y2) coordinates.\n",
    "        Arguments:\n",
    "            boxes (Tensor[N, 4]): boxes for which the area will be computed. They\n",
    "                are expected to be in (x1, y1, x2, y2) format\n",
    "        Returns:\n",
    "            area (Tensor[N]): area for each box\n",
    "        \"\"\"\n",
    "        return (boxes[:, 2] - boxes[:, 0]) * (boxes[:, 3] - boxes[:, 1])\n",
    "        \n",
    "    @staticmethod\n",
    "    # modified from torchvision to also return the union\n",
    "    def box_iou(boxes1, boxes2):\n",
    "        area1 = BoxUtils.box_area(boxes1)\n",
    "        area2 = BoxUtils.box_area(boxes2)\n",
    "\n",
<<<<<<< HEAD
>>>>>>> 21a79a7 (committing owl_vit_fine_tune)
    "print(model.classifier)"
   ]
  },
  {
   "cell_type": "markdown",
   "metadata": {},
   "source": [
    "# Fine-tuning"
   ]
  },
  {
   "cell_type": "code",
<<<<<<< HEAD
   "execution_count": 12,
   "metadata": {},
   "outputs": [
    {
     "name": "stderr",
     "output_type": "stream",
     "text": [
      "Some weights of ViTForImageClassification were not initialized from the model checkpoint at google/vit-base-patch16-224 and are newly initialized because the shapes did not match:\n",
      "- classifier.bias: found shape torch.Size([1000]) in the checkpoint and torch.Size([10]) in the model instantiated\n",
      "- classifier.weight: found shape torch.Size([1000, 768]) in the checkpoint and torch.Size([10, 768]) in the model instantiated\n",
      "You should probably TRAIN this model on a down-stream task to be able to use it for predictions and inference.\n"
     ]
    },
    {
     "name": "stdout",
     "output_type": "stream",
     "text": [
      "Linear(in_features=768, out_features=10, bias=True)\n"
     ]
    }
   ],
   "source": [
    "model = ViTForImageClassification.from_pretrained(model_name, num_labels=10, ignore_mismatched_sizes=True, id2label=itos, label2id=stoi)\n",
=======
   "execution_count": null,
   "metadata": {
    "tags": []
   },
   "outputs": [],
   "source": [
    "# with torchvision method of initiatization , we could intialize a pretrained model with a replaced classifier head\n",
    "model = ViTForImageClassification.from_pretrained(model_name, num_labels=10, ignore_mismatched_sizes=True, id2label=label_encoding, label2id=label_decoding)\n",
>>>>>>> 21a79a7 (committing owl_vit_fine_tune)
    "print(model.classifier)"
   ]
  },
  {
   "cell_type": "markdown",
   "metadata": {},
   "source": [
    "# Setup"
   ]
  },
  {
   "cell_type": "code",
<<<<<<< HEAD
   "execution_count": 13,
   "metadata": {},
=======
   "execution_count": 143,
   "metadata": {
    "tags": []
   },
   "outputs": [],
   "source": [
    "# help(TrainingArguments)"
   ]
  },
  {
   "cell_type": "code",
   "execution_count": null,
   "metadata": {
    "tags": []
   },
>>>>>>> 21a79a7 (committing owl_vit_fine_tune)
   "outputs": [],
   "source": [
    "args = TrainingArguments(\n",
    "    f\"test-cifar-10\",\n",
    "    save_strategy=\"epoch\",\n",
    "    evaluation_strategy=\"epoch\",\n",
    "    learning_rate=2e-5,\n",
    "    per_device_train_batch_size=10,\n",
    "    per_device_eval_batch_size=4,\n",
    "    num_train_epochs=3,\n",
    "    weight_decay=0.01,\n",
    "    load_best_model_at_end=True,\n",
    "    metric_for_best_model=\"accuracy\",\n",
    "    logging_dir='logs',\n",
    "    remove_unused_columns=False,\n",
<<<<<<< HEAD
=======
    "    report_to = None # disable W&B logging\n",
>>>>>>> 21a79a7 (committing owl_vit_fine_tune)
    ")"
   ]
  },
  {
   "cell_type": "code",
<<<<<<< HEAD
   "execution_count": 14,
   "metadata": {},
=======
   "execution_count": null,
   "metadata": {
    "tags": []
   },
>>>>>>> 21a79a7 (committing owl_vit_fine_tune)
   "outputs": [],
   "source": [
    "def collate_fn(examples):\n",
    "    pixels = torch.stack([example[\"pixels\"] for example in examples])\n",
    "    labels = torch.tensor([example[\"label\"] for example in examples])\n",
    "    return {\"pixel_values\": pixels, \"labels\": labels}\n",
=======
    "        lt = torch.max(boxes1[:, None, :2], boxes2[:, :2])  # [N,M,2]\n",
    "        rb = torch.min(boxes1[:, None, 2:], boxes2[:, 2:])  # [N,M,2]\n",
>>>>>>> 38f5603 (Rename notebooks)
    "\n",
    "        wh = (rb - lt).clamp(min=0)  # [N,M,2]\n",
    "        inter = wh[:, :, 0] * wh[:, :, 1]  # [N,M]\n",
    "\n",
    "        union = area1[:, None] + area2 - inter\n",
    "\n",
    "        iou = inter / union\n",
    "        return iou, union\n",
    "\n",
    "    @staticmethod\n",
    "    def generalized_box_iou(boxes1, boxes2):\n",
    "        \"\"\"\n",
    "        Generalized IoU from https://giou.stanford.edu/\n",
    "        The boxes should be in [x0, y0, x1, y1] format\n",
    "        Returns a [N, M] pairwise matrix, where N = len(boxes1)\n",
    "        and M = len(boxes2)\n",
    "        \"\"\"\n",
    "        # degenerate boxes gives inf / nan results\n",
    "        # so do an early check\n",
    "        assert (boxes1[:, 2:] >= boxes1[:, :2]).all()\n",
    "        assert (boxes2[:, 2:] >= boxes2[:, :2]).all()\n",
    "        iou, union = BoxUtils.box_iou(boxes1, boxes2)\n",
    "\n",
    "        lt = torch.min(boxes1[:, None, :2], boxes2[:, :2])\n",
    "        rb = torch.max(boxes1[:, None, 2:], boxes2[:, 2:])\n",
    "\n",
    "        wh = (rb - lt).clamp(min=0)  # [N,M,2]\n",
    "        area = wh[:, :, 0] * wh[:, :, 1]\n",
    "\n",
    "        return iou - (area - union) / area"
   ]
  },
  {
   "cell_type": "code",
<<<<<<< HEAD
<<<<<<< HEAD
   "execution_count": 15,
   "metadata": {},
   "outputs": [
    {
     "name": "stderr",
     "output_type": "stream",
     "text": [
      "/home/howt/mambaforge/envs/py310cv/lib/python3.10/site-packages/accelerate/accelerator.py:432: FutureWarning: Passing the following arguments to `Accelerator` is deprecated and will be removed in version 1.0 of Accelerate: dict_keys(['dispatch_batches', 'split_batches', 'even_batches', 'use_seedable_sampler']). Please pass an `accelerate.DataLoaderConfiguration` instead: \n",
      "dataloader_config = DataLoaderConfiguration(dispatch_batches=None, split_batches=False, even_batches=True, use_seedable_sampler=True)\n",
      "  warnings.warn(\n"
     ]
    }
   ],
=======
   "execution_count": 19,
   "metadata": {
    "tags": []
   },
   "outputs": [],
>>>>>>> 21a79a7 (committing owl_vit_fine_tune)
   "source": [
    "trainer = Trainer(\n",
    "    model,\n",
    "    args, \n",
<<<<<<< HEAD
    "    train_dataset=trainds,\n",
    "    eval_dataset=valds,\n",
=======
    "    train_dataset=train_ds,\n",
    "    eval_dataset=val_ds,\n",
>>>>>>> 21a79a7 (committing owl_vit_fine_tune)
    "    data_collator=collate_fn,\n",
    "    compute_metrics=compute_metrics,\n",
    "    tokenizer=processor,\n",
    ")"
   ]
  },
  {
   "cell_type": "code",
<<<<<<< HEAD
   "execution_count": 16,
   "metadata": {},
=======
   "execution_count": 20,
=======
   "execution_count": 8,
   "id": "236070f1-793e-401c-8383-aefd82bfed3e",
>>>>>>> 38f5603 (Rename notebooks)
   "metadata": {
    "tags": []
   },
>>>>>>> 21a79a7 (committing owl_vit_fine_tune)
   "outputs": [
    {
     "name": "stderr",
     "output_type": "stream",
     "text": [
<<<<<<< HEAD
<<<<<<< HEAD
      "Failed to detect the name of this notebook, you can set it manually with the WANDB_NOTEBOOK_NAME environment variable to enable code saving.\n",
      "\u001b[34m\u001b[1mwandb\u001b[0m: Logging into wandb.ai. (Learn how to deploy a W&B server locally: https://wandb.me/wandb-server)\n",
      "\u001b[34m\u001b[1mwandb\u001b[0m: You can find your API key in your browser here: https://wandb.ai/authorize\n",
      "\u001b[34m\u001b[1mwandb\u001b[0m: Paste an API key from your profile and hit enter, or press ctrl+c to quit:\u001b[34m\u001b[1mwandb\u001b[0m: Paste an API key from your profile and hit enter, or press ctrl+c to quit:\u001b[34m\u001b[1mwandb\u001b[0m: Paste an API key from your profile and hit enter, or press ctrl+c to quit:\u001b[34m\u001b[1mwandb\u001b[0m: Paste an API key from your profile and hit enter, or press ctrl+c to quit:\u001b[34m\u001b[1mwandb\u001b[0m: Paste an API key from your profile and hit enter, or press ctrl+c to quit:\u001b[34m\u001b[1mwandb\u001b[0m: Paste an API key from your profile and hit enter, or press ctrl+c to quit:\u001b[34m\u001b[1mwandb\u001b[0m: Paste an API key from your profile and hit enter, or press ctrl+c to quit:\u001b[34m\u001b[1mwandb\u001b[0m: Paste an API key from your profile and hit enter, or press ctrl+c to quit:\u001b[34m\u001b[1mwandb\u001b[0m: Paste an API key from your profile and hit enter, or press ctrl+c to quit:\u001b[34m\u001b[1mwandb\u001b[0m: Paste an API key from your profile and hit enter, or press ctrl+c to quit:\u001b[34m\u001b[1mwandb\u001b[0m: Paste an API key from your profile and hit enter, or press ctrl+c to quit:\u001b[34m\u001b[1mwandb\u001b[0m: Paste an API key from your profile and hit enter, or press ctrl+c to quit:\u001b[34m\u001b[1mwandb\u001b[0m: Paste an API key from your profile and hit enter, or press ctrl+c to quit:\u001b[34m\u001b[1mwandb\u001b[0m: Paste an API key from your profile and hit enter, or press ctrl+c to quit:\u001b[34m\u001b[1mwandb\u001b[0m: Paste an API key from your profile and hit enter, or press ctrl+c to quit:\u001b[34m\u001b[1mwandb\u001b[0m: Paste an API key from your profile and hit enter, or press ctrl+c to quit:\u001b[34m\u001b[1mwandb\u001b[0m: Paste an API key from your profile and hit enter, or press ctrl+c to quit:\u001b[34m\u001b[1mwandb\u001b[0m: Paste an API key from your profile and hit enter, or press ctrl+c to quit:\u001b[34m\u001b[1mwandb\u001b[0m: Paste an API key from your profile and hit enter, or press ctrl+c to quit:\u001b[34m\u001b[1mwandb\u001b[0m: Paste an API key from your profile and hit enter, or press ctrl+c to quit:\u001b[34m\u001b[1mwandb\u001b[0m: Paste an API key from your profile and hit enter, or press ctrl+c to quit:\u001b[34m\u001b[1mwandb\u001b[0m: Paste an API key from your profile and hit enter, or press ctrl+c to quit:\u001b[34m\u001b[1mwandb\u001b[0m: Paste an API key from your profile and hit enter, or press ctrl+c to quit:\u001b[34m\u001b[1mwandb\u001b[0m: Paste an API key from your profile and hit enter, or press ctrl+c to quit:\u001b[34m\u001b[1mwandb\u001b[0m: Paste an API key from your profile and hit enter, or press ctrl+c to quit:\u001b[34m\u001b[1mwandb\u001b[0m: Paste an API key from your profile and hit enter, or press ctrl+c to quit:\u001b[34m\u001b[1mwandb\u001b[0m: Paste an API key from your profile and hit enter, or press ctrl+c to quit:\u001b[34m\u001b[1mwandb\u001b[0m: Paste an API key from your profile and hit enter, or press ctrl+c to quit:\u001b[34m\u001b[1mwandb\u001b[0m: Paste an API key from your profile and hit enter, or press ctrl+c to quit:\u001b[34m\u001b[1mwandb\u001b[0m: Paste an API key from your profile and hit enter, or press ctrl+c to quit:\u001b[34m\u001b[1mwandb\u001b[0m: \u001b[32m\u001b[41mERROR\u001b[0m API key must be 40 characters long, yours was 3\n",
      "\u001b[34m\u001b[1mwandb\u001b[0m: Logging into wandb.ai. (Learn how to deploy a W&B server locally: https://wandb.me/wandb-server)\n",
      "\u001b[34m\u001b[1mwandb\u001b[0m: You can find your API key in your browser here: https://wandb.ai/authorize\n",
      "\u001b[34m\u001b[1mwandb\u001b[0m: Paste an API key from your profile and hit enter, or press ctrl+c to quit:\u001b[34m\u001b[1mwandb\u001b[0m: Paste an API key from your profile and hit enter, or press ctrl+c to quit:\u001b[34m\u001b[1mwandb\u001b[0m: Paste an API key from your profile and hit enter, or press ctrl+c to quit:\u001b[34m\u001b[1mwandb\u001b[0m: Appending key for api.wandb.ai to your netrc file: /home/howt/.netrc\n"
=======
      "\u001b[34m\u001b[1mwandb\u001b[0m: Logging into wandb.ai. (Learn how to deploy a W&B server locally: https://wandb.me/wandb-server)\n",
      "\u001b[34m\u001b[1mwandb\u001b[0m: You can find your API key in your browser here: https://wandb.ai/authorize\n",
      "\u001b[34m\u001b[1mwandb\u001b[0m: Paste an API key from your profile and hit enter, or press ctrl+c to quit:"
     ]
    },
    {
     "name": "stdin",
     "output_type": "stream",
     "text": [
      "  ········\n"
     ]
    },
    {
     "name": "stderr",
     "output_type": "stream",
     "text": [
      "\u001b[34m\u001b[1mwandb\u001b[0m: Appending key for api.wandb.ai to your netrc file: /home/jupyter/.netrc\n"
>>>>>>> 21a79a7 (committing owl_vit_fine_tune)
=======
      "\u001b[34m\u001b[1mwandb\u001b[0m: Currently logged in as: \u001b[33mhowt51\u001b[0m. Use \u001b[1m`wandb login --relogin`\u001b[0m to force relogin\n"
>>>>>>> 38f5603 (Rename notebooks)
     ]
    },
    {
     "data": {
      "text/html": [
       "Tracking run with wandb version 0.16.6"
      ],
      "text/plain": [
       "<IPython.core.display.HTML object>"
      ]
     },
     "metadata": {},
     "output_type": "display_data"
    },
    {
     "data": {
      "text/html": [
<<<<<<< HEAD
<<<<<<< HEAD
       "Run data is saved locally in <code>/home/howt/work/til-24-curriculum/cv_vlm/Unit_4/wandb/run-20240426_081028-dp1qdqtp</code>"
=======
       "Run data is saved locally in <code>/home/jupyter/til-24-curriculum/cv_vlm/Unit_4/wandb/run-20240426_062242-3kfjowkg</code>"
>>>>>>> 21a79a7 (committing owl_vit_fine_tune)
=======
       "Run data is saved locally in <code>/home/jupyter/til-24-curriculum/cv_vlm/Unit_4/wandb/run-20240428_033428-oqbk52mu</code>"
>>>>>>> 38f5603 (Rename notebooks)
      ],
      "text/plain": [
       "<IPython.core.display.HTML object>"
      ]
     },
     "metadata": {},
     "output_type": "display_data"
    },
    {
     "data": {
      "text/html": [
<<<<<<< HEAD
<<<<<<< HEAD
       "Syncing run <strong><a href='https://wandb.ai/howt51/huggingface/runs/dp1qdqtp' target=\"_blank\">chocolate-blaze-1</a></strong> to <a href='https://wandb.ai/howt51/huggingface' target=\"_blank\">Weights & Biases</a> (<a href='https://wandb.me/run' target=\"_blank\">docs</a>)<br/>"
=======
       "Syncing run <strong><a href='https://wandb.ai/howt51/huggingface/runs/3kfjowkg' target=\"_blank\">robust-galaxy-2</a></strong> to <a href='https://wandb.ai/howt51/huggingface' target=\"_blank\">Weights & Biases</a> (<a href='https://wandb.me/run' target=\"_blank\">docs</a>)<br/>"
>>>>>>> 21a79a7 (committing owl_vit_fine_tune)
=======
       "Syncing run <strong><a href='https://wandb.ai/howt51/huggingface/runs/oqbk52mu' target=\"_blank\">wobbly-plant-8</a></strong> to <a href='https://wandb.ai/howt51/huggingface' target=\"_blank\">Weights & Biases</a> (<a href='https://wandb.me/run' target=\"_blank\">docs</a>)<br/>"
>>>>>>> 38f5603 (Rename notebooks)
      ],
      "text/plain": [
       "<IPython.core.display.HTML object>"
      ]
     },
     "metadata": {},
     "output_type": "display_data"
    },
    {
     "data": {
      "text/html": [
       " View project at <a href='https://wandb.ai/howt51/huggingface' target=\"_blank\">https://wandb.ai/howt51/huggingface</a>"
      ],
      "text/plain": [
       "<IPython.core.display.HTML object>"
      ]
     },
     "metadata": {},
     "output_type": "display_data"
    },
    {
     "data": {
      "text/html": [
<<<<<<< HEAD
<<<<<<< HEAD
       " View run at <a href='https://wandb.ai/howt51/huggingface/runs/dp1qdqtp' target=\"_blank\">https://wandb.ai/howt51/huggingface/runs/dp1qdqtp</a>"
=======
       " View run at <a href='https://wandb.ai/howt51/huggingface/runs/3kfjowkg' target=\"_blank\">https://wandb.ai/howt51/huggingface/runs/3kfjowkg</a>"
>>>>>>> 21a79a7 (committing owl_vit_fine_tune)
=======
       " View run at <a href='https://wandb.ai/howt51/huggingface/runs/oqbk52mu' target=\"_blank\">https://wandb.ai/howt51/huggingface/runs/oqbk52mu</a>"
>>>>>>> 38f5603 (Rename notebooks)
      ],
      "text/plain": [
       "<IPython.core.display.HTML object>"
      ]
     },
     "metadata": {},
     "output_type": "display_data"
    },
    {
     "data": {
      "text/html": [
       "\n",
       "    <div>\n",
       "      \n",
<<<<<<< HEAD
<<<<<<< HEAD
       "      <progress value='207' max='1350' style='width:300px; height:20px; vertical-align: middle;'></progress>\n",
       "      [ 207/1350 29:03 < 2:42:02, 0.12 it/s, Epoch 0.46/3]\n",
=======
       "      <progress value='1350' max='1350' style='width:300px; height:20px; vertical-align: middle;'></progress>\n",
       "      [1350/1350 09:16, Epoch 3/3]\n",
>>>>>>> 21a79a7 (committing owl_vit_fine_tune)
=======
       "      <progress value='200' max='200' style='width:300px; height:20px; vertical-align: middle;'></progress>\n",
       "      [200/200 03:34, Epoch 2/2]\n",
>>>>>>> 38f5603 (Rename notebooks)
       "    </div>\n",
       "    <table border=\"1\" class=\"dataframe\">\n",
       "  <thead>\n",
       " <tr style=\"text-align: left;\">\n",
       "      <th>Step</th>\n",
       "      <th>Training Loss</th>\n",
<<<<<<< HEAD
       "      <th>Validation Loss</th>\n",
<<<<<<< HEAD
       "    </tr>\n",
       "  </thead>\n",
       "  <tbody>\n",
=======
       "      <th>Accuracy</th>\n",
=======
>>>>>>> 38f5603 (Rename notebooks)
       "    </tr>\n",
       "  </thead>\n",
       "  <tbody>\n",
       "    <tr>\n",
       "      <td>50</td>\n",
       "      <td>60.692300</td>\n",
       "    </tr>\n",
       "    <tr>\n",
       "      <td>100</td>\n",
       "      <td>5.516100</td>\n",
       "    </tr>\n",
       "    <tr>\n",
       "      <td>150</td>\n",
       "      <td>5.303000</td>\n",
       "    </tr>\n",
       "    <tr>\n",
       "      <td>200</td>\n",
       "      <td>6.079400</td>\n",
       "    </tr>\n",
>>>>>>> 21a79a7 (committing owl_vit_fine_tune)
       "  </tbody>\n",
       "</table><p>"
      ],
      "text/plain": [
       "<IPython.core.display.HTML object>"
      ]
     },
     "metadata": {},
     "output_type": "display_data"
    },
    {
<<<<<<< HEAD
     "ename": "KeyboardInterrupt",
     "evalue": "",
     "output_type": "error",
     "traceback": [
      "\u001b[0;31m---------------------------------------------------------------------------\u001b[0m",
      "\u001b[0;31mKeyboardInterrupt\u001b[0m                         Traceback (most recent call last)",
      "Cell \u001b[0;32mIn[16], line 1\u001b[0m\n\u001b[0;32m----> 1\u001b[0m \u001b[43mtrainer\u001b[49m\u001b[38;5;241;43m.\u001b[39;49m\u001b[43mtrain\u001b[49m\u001b[43m(\u001b[49m\u001b[43m)\u001b[49m\n",
      "File \u001b[0;32m~/mambaforge/envs/py310cv/lib/python3.10/site-packages/transformers/trainer.py:1780\u001b[0m, in \u001b[0;36mTrainer.train\u001b[0;34m(self, resume_from_checkpoint, trial, ignore_keys_for_eval, **kwargs)\u001b[0m\n\u001b[1;32m   1778\u001b[0m         hf_hub_utils\u001b[38;5;241m.\u001b[39menable_progress_bars()\n\u001b[1;32m   1779\u001b[0m \u001b[38;5;28;01melse\u001b[39;00m:\n\u001b[0;32m-> 1780\u001b[0m     \u001b[38;5;28;01mreturn\u001b[39;00m \u001b[43minner_training_loop\u001b[49m\u001b[43m(\u001b[49m\n\u001b[1;32m   1781\u001b[0m \u001b[43m        \u001b[49m\u001b[43margs\u001b[49m\u001b[38;5;241;43m=\u001b[39;49m\u001b[43margs\u001b[49m\u001b[43m,\u001b[49m\n\u001b[1;32m   1782\u001b[0m \u001b[43m        \u001b[49m\u001b[43mresume_from_checkpoint\u001b[49m\u001b[38;5;241;43m=\u001b[39;49m\u001b[43mresume_from_checkpoint\u001b[49m\u001b[43m,\u001b[49m\n\u001b[1;32m   1783\u001b[0m \u001b[43m        \u001b[49m\u001b[43mtrial\u001b[49m\u001b[38;5;241;43m=\u001b[39;49m\u001b[43mtrial\u001b[49m\u001b[43m,\u001b[49m\n\u001b[1;32m   1784\u001b[0m \u001b[43m        \u001b[49m\u001b[43mignore_keys_for_eval\u001b[49m\u001b[38;5;241;43m=\u001b[39;49m\u001b[43mignore_keys_for_eval\u001b[49m\u001b[43m,\u001b[49m\n\u001b[1;32m   1785\u001b[0m \u001b[43m    \u001b[49m\u001b[43m)\u001b[49m\n",
      "File \u001b[0;32m~/mambaforge/envs/py310cv/lib/python3.10/site-packages/transformers/trainer.py:2123\u001b[0m, in \u001b[0;36mTrainer._inner_training_loop\u001b[0;34m(self, batch_size, args, resume_from_checkpoint, trial, ignore_keys_for_eval)\u001b[0m\n\u001b[1;32m   2117\u001b[0m \u001b[38;5;28;01mwith\u001b[39;00m \u001b[38;5;28mself\u001b[39m\u001b[38;5;241m.\u001b[39maccelerator\u001b[38;5;241m.\u001b[39maccumulate(model):\n\u001b[1;32m   2118\u001b[0m     tr_loss_step \u001b[38;5;241m=\u001b[39m \u001b[38;5;28mself\u001b[39m\u001b[38;5;241m.\u001b[39mtraining_step(model, inputs)\n\u001b[1;32m   2120\u001b[0m \u001b[38;5;28;01mif\u001b[39;00m (\n\u001b[1;32m   2121\u001b[0m     args\u001b[38;5;241m.\u001b[39mlogging_nan_inf_filter\n\u001b[1;32m   2122\u001b[0m     \u001b[38;5;129;01mand\u001b[39;00m \u001b[38;5;129;01mnot\u001b[39;00m is_torch_xla_available()\n\u001b[0;32m-> 2123\u001b[0m     \u001b[38;5;129;01mand\u001b[39;00m (torch\u001b[38;5;241m.\u001b[39misnan(tr_loss_step) \u001b[38;5;129;01mor\u001b[39;00m \u001b[43mtorch\u001b[49m\u001b[38;5;241;43m.\u001b[39;49m\u001b[43misinf\u001b[49m\u001b[43m(\u001b[49m\u001b[43mtr_loss_step\u001b[49m\u001b[43m)\u001b[49m)\n\u001b[1;32m   2124\u001b[0m ):\n\u001b[1;32m   2125\u001b[0m     \u001b[38;5;66;03m# if loss is nan or inf simply add the average of previous logged losses\u001b[39;00m\n\u001b[1;32m   2126\u001b[0m     tr_loss \u001b[38;5;241m+\u001b[39m\u001b[38;5;241m=\u001b[39m tr_loss \u001b[38;5;241m/\u001b[39m (\u001b[38;5;241m1\u001b[39m \u001b[38;5;241m+\u001b[39m \u001b[38;5;28mself\u001b[39m\u001b[38;5;241m.\u001b[39mstate\u001b[38;5;241m.\u001b[39mglobal_step \u001b[38;5;241m-\u001b[39m \u001b[38;5;28mself\u001b[39m\u001b[38;5;241m.\u001b[39m_globalstep_last_logged)\n\u001b[1;32m   2127\u001b[0m \u001b[38;5;28;01melse\u001b[39;00m:\n",
      "\u001b[0;31mKeyboardInterrupt\u001b[0m: "
     ]
=======
     "data": {
      "text/plain": [
       "TrainOutput(global_step=200, training_loss=19.3977197265625, metrics={'train_runtime': 229.149, 'train_samples_per_second': 0.873, 'train_steps_per_second': 0.873, 'total_flos': 12238430880000.0, 'train_loss': 19.3977197265625, 'epoch': 2.0})"
      ]
     },
     "execution_count": 8,
     "metadata": {},
     "output_type": "execute_result"
>>>>>>> 21a79a7 (committing owl_vit_fine_tune)
    }
   ],
   "source": [
<<<<<<< HEAD
    "trainer.train()"
   ]
  },
  {
   "cell_type": "markdown",
   "metadata": {},
   "source": [
    "# Evaluation"
   ]
  },
  {
   "cell_type": "code",
<<<<<<< HEAD
   "execution_count": null,
   "metadata": {},
   "outputs": [],
   "source": [
    "itos[np.argmax(outputs.predictions[0])], itos[outputs.label_ids[0]]"
=======
   "execution_count": 106,
   "metadata": {
    "tags": []
   },
   "outputs": [
    {
     "data": {
      "text/html": [],
      "text/plain": [
       "<IPython.core.display.HTML object>"
      ]
     },
     "metadata": {},
     "output_type": "display_data"
    },
    {
     "name": "stdout",
     "output_type": "stream",
     "text": [
      "{'test_loss': 0.09033887088298798, 'test_accuracy': 0.974, 'test_runtime': 12.7867, 'test_samples_per_second': 78.206, 'test_steps_per_second': 19.552}\n"
     ]
    }
   ],
   "source": [
    "outputs = trainer.predict(test_ds)\n",
    "print(outputs.metrics)"
>>>>>>> 21a79a7 (committing owl_vit_fine_tune)
   ]
  },
  {
   "cell_type": "code",
<<<<<<< HEAD
   "execution_count": null,
   "metadata": {},
   "outputs": [],
=======
   "execution_count": 111,
   "metadata": {
    "tags": []
   },
   "outputs": [
    {
     "data": {
      "text/plain": [
       "('cat', 'cat')"
      ]
     },
     "execution_count": 111,
     "metadata": {},
     "output_type": "execute_result"
    }
   ],
   "source": [
    "label_encoding[np.argmax(outputs.predictions[0])], label_encoding[outputs.label_ids[0]]"
   ]
  },
  {
   "cell_type": "code",
   "execution_count": 108,
   "metadata": {
    "tags": []
   },
   "outputs": [
    {
     "data": {
      "text/plain": [
       "<sklearn.metrics._plot.confusion_matrix.ConfusionMatrixDisplay at 0x7f6fc8387fa0>"
      ]
     },
     "execution_count": 108,
     "metadata": {},
     "output_type": "execute_result"
    },
    {
     "data": {
      "image/png": "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",
      "text/plain": [
       "<Figure size 640x480 with 2 Axes>"
      ]
     },
     "metadata": {},
     "output_type": "display_data"
    }
   ],
>>>>>>> 21a79a7 (committing owl_vit_fine_tune)
   "source": [
    "y_true = outputs.label_ids\n",
    "y_pred = outputs.predictions.argmax(1)\n",
=======
    "import torch\n",
    "import torch.nn as nn\n",
    "import torch.nn.functional as F\n",
>>>>>>> 38f5603 (Rename notebooks)
    "\n",
    "from scipy.optimize import linear_sum_assignment\n",
    "\n",
    "class HungarianMatcher(nn.Module):\n",
    "    \"\"\"This class computes an assignment between the targets and the predictions of the network\n",
    "    For efficiency reasons, the targets don't include the no_object. Because of this, in general,\n",
    "    there are more predictions than targets. In this case, we do a 1-to-1 matching of the best predictions,\n",
    "    while the others are un-matched (and thus treated as non-objects).\n",
    "    \"\"\"\n",
    "\n",
    "    def __init__(self, cost_class: float = 1, cost_bbox: float = 1, cost_giou: float = 1):\n",
    "        \"\"\"Creates the matcher\n",
    "        Params:\n",
    "            cost_class: This is the relative weight of the classification error in the matching cost\n",
    "            cost_bbox: This is the relative weight of the L1 error of the bounding box coordinates in the matching cost\n",
    "            cost_giou: This is the relative weight of the giou loss of the bounding box in the matching cost\n",
    "        \"\"\"\n",
    "        super().__init__()\n",
    "        self.cost_class = cost_class\n",
    "        self.cost_bbox = cost_bbox\n",
    "        self.cost_giou = cost_giou\n",
    "        assert cost_class != 0 or cost_bbox != 0 or cost_giou != 0, \"all costs cant be 0\"\n",
    "\n",
    "    @torch.no_grad()\n",
    "    def forward(self, outputs, targets):\n",
    "        \"\"\" Performs the matching\n",
    "        Params:\n",
    "            outputs: This is a dict that contains at least these entries:\n",
    "                 \"pred_logits\": Tensor of dim [batch_size, num_queries, num_classes] with the classification logits\n",
    "                 \"pred_boxes\": Tensor of dim [batch_size, num_queries, 4] with the predicted box coordinates\n",
    "            targets: This is a list of targets (len(targets) = batch_size), where each target is a dict containing:\n",
    "                 \"labels\": Tensor of dim [num_target_boxes] (where num_target_boxes is the number of ground-truth\n",
    "                           objects in the target) containing the class labels\n",
    "                 \"boxes\": Tensor of dim [num_target_boxes, 4] containing the target box coordinates\n",
    "        Returns:\n",
    "            A list of size batch_size, containing tuples of (index_i, index_j) where:\n",
    "                - index_i is the indices of the selected predictions (in order)\n",
    "                - index_j is the indices of the corresponding selected targets (in order)\n",
    "            For each batch element, it holds:\n",
    "                len(index_i) = len(index_j) = min(num_queries, num_target_boxes)\n",
    "        \"\"\"\n",
    "        logging.info(f\"{outputs.keys()=}\")\n",
    "        bs, num_queries = outputs[\"logits\"].shape[:2]\n",
    "\n",
    "        # We flatten to compute the cost matrices in a batch\n",
    "        out_prob = outputs[\"logits\"].flatten(0, 1).softmax(-1)  # [batch_size * num_queries, num_classes]\n",
    "        out_bbox = outputs[\"pred_boxes\"].flatten(0, 1)  # [batch_size * num_queries, 4]\n",
    "\n",
    "        # Also concat the target labels and boxes\n",
    "        tgt_ids = torch.cat([v[\"class_labels\"] for v in targets])\n",
    "        logging.info(f\"forward - {tgt_ids}\")\n",
    "        tgt_ids = tgt_ids.int()\n",
    "        logging.info(f\"forward - {tgt_ids}\")\n",
    "\n",
    "\n",
    "        tgt_bbox = torch.cat([v[\"boxes\"] for v in targets])\n",
    "\n",
    "        # Compute the classification cost. Contrary to the loss, we don't use the NLL,\n",
    "        # but approximate it in 1 - proba[target class].\n",
    "        # The 1 is a constant that doesn't change the matching, it can be ommitted.\n",
    "        cost_class = -out_prob[:, tgt_ids]\n",
    "\n",
    "        # Compute the L1 cost between boxes\n",
    "        cost_bbox = torch.cdist(out_bbox, tgt_bbox, p=1)\n",
    "\n",
    "        # Compute the giou cost betwen boxes\n",
    "        cost_giou = -BoxUtils.generalized_box_iou(\n",
    "            BoxUtils.box_cxcywh_to_xyxy(out_bbox),\n",
    "            BoxUtils.box_cxcywh_to_xyxy(tgt_bbox)\n",
    "        )\n",
    "\n",
    "        # Final cost matrix\n",
    "        C = self.cost_bbox * cost_bbox + self.cost_class * cost_class + self.cost_giou * cost_giou\n",
    "        C = C.view(bs, num_queries, -1).cpu()\n",
    "\n",
    "        sizes = [len(v[\"boxes\"]) for v in targets]\n",
    "        indices = [linear_sum_assignment(c[i]) for i, c in enumerate(C.split(sizes, -1))]\n",
    "        return [(torch.as_tensor(i, dtype=torch.int64), torch.as_tensor(j, dtype=torch.int64)) for i, j in indices]\n",
    "\n",
    "class SetCriterion(nn.Module):\n",
    "    \"\"\" This class computes the loss for DETR.\n",
    "    The process happens in two steps:\n",
    "        1) we compute hungarian assignment between ground truth boxes and the outputs of the model\n",
    "        2) we supervise each pair of matched ground-truth / prediction (supervise class and box)\n",
    "    \"\"\"\n",
    "    def __init__(self, num_classes, matcher, weight_dict, eos_coef, losses):\n",
    "        \"\"\" Create the criterion.\n",
    "        Parameters:\n",
    "            num_classes: number of object categories, omitting the special no-object category\n",
    "            matcher: module able to compute a matching between targets and proposals\n",
    "            weight_dict: dict containing as key the names of the losses and as values their relative weight.\n",
    "            eos_coef: relative classification weight applied to the no-object category\n",
    "            losses: list of all the losses to be applied. See get_loss for list of available losses.\n",
    "        \"\"\"\n",
    "        super().__init__()\n",
    "        self.num_classes = num_classes\n",
    "        self.matcher = matcher\n",
    "        self.weight_dict = weight_dict\n",
    "        self.eos_coef = eos_coef\n",
    "        self.losses = losses\n",
    "        empty_weight = torch.ones(self.num_classes + 1)\n",
    "        empty_weight[-1] = self.eos_coef\n",
    "        self.register_buffer('empty_weight', empty_weight)\n",
    "\n",
    "    def loss_labels(self, outputs, targets, indices, num_boxes):\n",
    "        \"\"\"Classification loss (NLL)\n",
    "        targets dicts must contain the key \"labels\" containing a tensor of dim [nb_target_boxes]\n",
    "        \"\"\"\n",
    "        logging.info(f\"loss_labels - {outputs.keys()}\")\n",
    "        assert 'logits' in outputs\n",
    "        src_logits = outputs['logits']\n",
    "\n",
    "        idx = self._get_src_permutation_idx(indices)\n",
    "        target_classes_o = torch.cat([t[\"class_labels\"][J] for t, (_, J) in zip(targets, indices)]).to(torch.int64)\n",
    "        target_classes = torch.full(src_logits.shape[:2], self.num_classes,\n",
    "                                    dtype=torch.int64, device=src_logits.device).to(torch.int64)\n",
    "        target_classes[idx] = target_classes_o\n",
    "\n",
    "        loss_ce = F.cross_entropy(src_logits.transpose(1, 2), target_classes, self.empty_weight)\n",
    "        losses = {'loss_ce': loss_ce}\n",
    "        return losses\n",
    "\n",
    "    @torch.no_grad()\n",
    "    def loss_cardinality(self, outputs, targets, indices, num_boxes):\n",
    "        \"\"\" Compute the cardinality error, ie the absolute error in the number of predicted non-empty boxes\n",
    "        This is not really a loss, it is intended for logging purposes only. It doesn't propagate gradients\n",
    "        \"\"\"\n",
    "        pred_logits = outputs['logits']\n",
    "        device = pred_logits.device\n",
    "        tgt_lengths = torch.as_tensor([len(v[\"class_labels\"]) for v in targets], device=device)\n",
    "        # Count the number of predictions that are NOT \"no-object\" (which is the last class)\n",
    "        card_pred = (pred_logits.argmax(-1) != pred_logits.shape[-1] - 1).sum(1)\n",
    "        card_err = F.l1_loss(card_pred.float(), tgt_lengths.float())\n",
    "        losses = {'cardinality_error': card_err}\n",
    "        return losses\n",
    "\n",
    "    def loss_boxes(self, outputs, targets, indices, num_boxes):\n",
    "        \"\"\"Compute the losses related to the bounding boxes, the L1 regression loss and the GIoU loss\n",
    "           targets dicts must contain the key \"boxes\" containing a tensor of dim [nb_target_boxes, 4]\n",
    "           The target boxes are expected in format (center_x, center_y, w, h), normalized by the image size.\n",
    "        \"\"\"\n",
    "        assert 'pred_boxes' in outputs\n",
    "        idx = self._get_src_permutation_idx(indices)\n",
    "        src_boxes = outputs['pred_boxes'][idx]\n",
    "        target_boxes = torch.cat([t['boxes'][i] for t, (_, i) in zip(targets, indices)], dim=0)\n",
    "\n",
    "        loss_bbox = F.l1_loss(src_boxes, target_boxes, reduction='none')\n",
    "\n",
    "        losses = {}\n",
    "        losses['loss_bbox'] = loss_bbox.sum() / num_boxes\n",
    "\n",
    "        loss_giou = 1 - torch.diag(BoxUtils.generalized_box_iou(\n",
    "            BoxUtils.box_cxcywh_to_xyxy(src_boxes),\n",
    "            BoxUtils.box_cxcywh_to_xyxy(target_boxes))\n",
    "        )\n",
    "        losses['loss_giou'] = loss_giou.sum() / num_boxes\n",
    "        return losses\n",
    "\n",
    "    def _get_src_permutation_idx(self, indices):\n",
    "        # permute predictions following indices\n",
    "        batch_idx = torch.cat([torch.full_like(src, i) for i, (src, _) in enumerate(indices)])\n",
    "        src_idx = torch.cat([src for (src, _) in indices])\n",
    "        return batch_idx, src_idx\n",
    "\n",
    "    def _get_tgt_permutation_idx(self, indices):\n",
    "        # permute targets following indices\n",
    "        batch_idx = torch.cat([torch.full_like(tgt, i) for i, (_, tgt) in enumerate(indices)])\n",
    "        tgt_idx = torch.cat([tgt for (_, tgt) in indices])\n",
    "        return batch_idx, tgt_idx\n",
    "\n",
    "    def get_loss(self, loss, outputs, targets, indices, num_boxes, **kwargs):\n",
    "        loss_map = {\n",
    "            'labels': self.loss_labels,\n",
    "            'cardinality': self.loss_cardinality,\n",
    "            'boxes': self.loss_boxes,\n",
    "        }\n",
    "        assert loss in loss_map, f'do you really want to compute {loss} loss?'\n",
    "        return loss_map[loss](outputs, targets, indices, num_boxes, **kwargs)\n",
    "\n",
    "    def forward(self, outputs, targets):\n",
    "        \"\"\" This performs the loss computation.\n",
    "        Parameters:\n",
    "             outputs: dict of tensors, see the output specification of the model for the format\n",
    "             targets: list of dicts, such that len(targets) == batch_size.\n",
    "                      The expected keys in each dict depends on the losses applied, see each loss' doc\n",
    "        \"\"\"\n",
    "        logging.info(f\"{type(outputs)=}\")\n",
    "        logging.info(f\"{type(targets)=}\")\n",
    "        outputs_without_aux = {k: v for k, v in outputs.items() if k != 'aux_outputs'}\n",
    "\n",
    "        # Retrieve the matching between the outputs of the last layer and the targets\n",
    "        indices = self.matcher(outputs_without_aux, targets)\n",
    "\n",
    "        # Compute the average number of target boxes accross all nodes, for normalization purposes\n",
    "        num_boxes = sum(len(t[\"class_labels\"]) for t in targets)\n",
    "        num_boxes = torch.as_tensor([num_boxes], dtype=torch.float, device=next(iter(outputs.values())).device)\n",
    "\n",
    "        # Compute all the requested losses\n",
    "        losses = {}\n",
    "        for loss in self.losses:\n",
    "            losses.update(self.get_loss(loss, outputs, targets, indices, num_boxes))\n",
    "        return losses # sum(loss.values())#losses\n",
    "    \n",
    "def collate_fn(batch):\n",
    "    #input_ids = torch.Tensor([item[\"input_ids\"].tolist() for item in batch]).int()\n",
    "    input_ids = torch.Tensor([item[\"input_ids\"] for item in batch]).int()\n",
    "    input_ids = input_ids.to(device)\n",
    "    # attention_mask = torch.Tensor([item[\"attention_mask\"].tolist() for item in batch]).int()\n",
    "    attention_mask = torch.Tensor([item[\"attention_mask\"] for item in batch]).int()\n",
    "    attention_mask = attention_mask.to(device)\n",
    "    # pixel_values = torch.Tensor([item[\"pixel_values\"].tolist() for item in batch])\n",
    "    pixel_values = torch.Tensor([item[\"pixel_values\"] for item in batch])\n",
    "    pixel_values = pixel_values.to(device)\n",
    "    labels = []\n",
    "    for item in batch:\n",
    "        for (key, value) in item[\"labels\"].items():\n",
    "            item[\"labels\"][key] = torch.Tensor(value).to(device)\n",
    "        labels.append(item[\"labels\"])\n",
    "     \n",
    "    batch = {}\n",
    "    batch[\"input_ids\"] = input_ids\n",
    "    batch[\"attention_mask\"] = attention_mask\n",
    "    batch[\"pixel_values\"] = pixel_values\n",
    "    batch[\"labels\"] = labels\n",
    "    return batch\n",
    "\n",
    "\n",
    "\n",
    "from transformers import TrainingArguments\n",
    "\n",
    "training_args = TrainingArguments(\n",
    "    output_dir=\"owlvit-base-patch32_FT_cppe5\",\n",
    "    per_device_train_batch_size=1,\n",
    "    num_train_epochs=2,\n",
    "    fp16=True,\n",
    "    save_steps=200,\n",
    "    logging_steps=50,\n",
    "    learning_rate=1e-5,\n",
    "    weight_decay=1e-4,\n",
    "    save_total_limit=2,\n",
    "    remove_unused_columns=False,\n",
    "    push_to_hub=False,\n",
    "    dataloader_pin_memory=False,\n",
    "    gradient_accumulation_steps=1\n",
    ")\n",
    "\n",
    "# custom loss\n",
    "def custom_loss(logits, labels):\n",
    "    num_classes = 4\n",
    "    matcher = HungarianMatcher(cost_class = 1, cost_bbox = 5, cost_giou = 2)\n",
    "    weight_dict = {'loss_ce': 1, 'loss_bbox': 5, 'loss_giou': 2}\n",
    "    losses = ['labels', 'boxes', 'cardinality']\n",
    "    criterion = SetCriterion(num_classes, matcher=matcher, weight_dict=weight_dict, eos_coef=0.1, losses=losses)\n",
    "    criterion.to(device)\n",
    "    logging.info(f\"{type(logits)=}\")\n",
    "    logging.info(f\"{type(labels)=}\")\n",
    "    loss = criterion(logits, labels)\n",
    "    return loss\n",
    "\n",
    "# subclass trainer\n",
    "from transformers import Trainer\n",
    "\n",
    "class CustomTrainer(Trainer):\n",
    "    def compute_loss(self, model, inputs, return_outputs=False):\n",
    "        labels = inputs.pop(\"labels\")\n",
    "\n",
    "        inputs[\"input_ids\"] = inputs[\"input_ids\"][0]\n",
    "        inputs[\"attention_mask\"] = inputs[\"attention_mask\"][0]\n",
    "        outputs = model(**inputs, return_dict=True)\n",
    "        loss = custom_loss(outputs, labels)\n",
    "        loss = sum(loss.values())[0] #add\n",
    "        return (loss, outputs) if return_outputs else loss\n",
    "\n",
    "# use new trainer\n",
    "trainer = CustomTrainer(\n",
    "    model=model,\n",
    "    args=training_args,\n",
    "    data_collator=collate_fn,\n",
    "    train_dataset=train_dataset,\n",
    "    tokenizer=processor\n",
    ")\n",
    "\n",
    "trainer.train()"
   ]
  },
  {
   "cell_type": "code",
   "execution_count": null,
   "id": "7b62031f-ac20-45bb-a0f5-ceca84af0f48",
   "metadata": {},
   "outputs": [],
   "source": []
  }
 ],
 "metadata": {
<<<<<<< HEAD
  "kernelspec": {
   "display_name": "py310cv",
   "language": "python",
   "name": "python3"
=======
  "environment": {
   "kernel": "python310cv",
   "name": "workbench-notebooks.m119",
   "type": "gcloud",
   "uri": "us-docker.pkg.dev/deeplearning-platform-release/gcr.io/workbench-notebooks:m119"
  },
  "kernelspec": {
   "display_name": "python310cv",
   "language": "python",
<<<<<<< HEAD
   "name": "conda-env-pytorch-pytorch"
>>>>>>> 21a79a7 (committing owl_vit_fine_tune)
=======
   "name": "python310cv"
>>>>>>> 38f5603 (Rename notebooks)
  },
  "language_info": {
   "codemirror_mode": {
    "name": "ipython",
    "version": 3
   },
   "file_extension": ".py",
   "mimetype": "text/x-python",
   "name": "python",
   "nbconvert_exporter": "python",
   "pygments_lexer": "ipython3",
   "version": "3.10.0"
  }
 },
 "nbformat": 4,
<<<<<<< HEAD
<<<<<<< HEAD
 "nbformat_minor": 2
=======
 "nbformat_minor": 4
>>>>>>> 21a79a7 (committing owl_vit_fine_tune)
=======
 "nbformat_minor": 5
>>>>>>> 38f5603 (Rename notebooks)
}
