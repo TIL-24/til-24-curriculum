{
 "cells": [
  {
   "cell_type": "markdown",
   "metadata": {},
   "source": [
    "# Notebook that uses torch hub + Ultralytics YOLO Models\n",
    "## PyTorch Implementation:\n",
    "\n",
    "For applications requiring YOLO implementations within a PyTorch environment, the Ultralytics organization provides a pre-trained (upto) YOLOv5 model readily accessible through the PyTorch Hub: https://pytorch.org/hub/ultralytics_yolov5/. This resource offers a convenient starting point for leveraging YOLOv5 functionalities.\n",
    "\n",
    "## Version Availability:\n",
    "\n",
    "It's important to note that subsequent YOLO versions (beyond v5) developed by Ultralytics are not currently open-sourced. This implies that the specific model architectures and pre-trained weights associated with these later versions are not publicly available for unrestricted use or modification."
   ]
  },
  {
   "cell_type": "code",
   "execution_count": 1,
   "metadata": {},
   "outputs": [
    {
     "name": "stderr",
     "output_type": "stream",
     "text": [
      "Using cache found in /home/howt/.cache/torch/hub/ultralytics_yolov5_master\n",
      "YOLOv5 🚀 2024-3-30 Python-3.10.14 torch-2.2.2+cu118 CUDA:0 (NVIDIA GeForce RTX 3070 Laptop GPU, 8192MiB)\n",
      "\n",
      "Downloading https://github.com/ultralytics/yolov5/releases/download/v7.0/yolov5s.pt to yolov5s.pt...\n",
      "100%|██████████| 14.1M/14.1M [00:00<00:00, 15.4MB/s]\n",
      "\n",
      "Fusing layers... \n",
      "YOLOv5s summary: 213 layers, 7225885 parameters, 0 gradients, 16.4 GFLOPs\n",
      "Adding AutoShape... \n",
      "image 1/1: 720x1280 2 persons, 2 ties\n",
      "Speed: 1509.4ms pre-process, 104.8ms inference, 16.5ms NMS per image at shape (1, 3, 384, 640)\n",
      "Saved 1 image to \u001b[1mruns/detect/exp3\u001b[0m\n"
     ]
    },
    {
     "data": {
      "text/html": [
       "<div>\n",
       "<style scoped>\n",
       "    .dataframe tbody tr th:only-of-type {\n",
       "        vertical-align: middle;\n",
       "    }\n",
       "\n",
       "    .dataframe tbody tr th {\n",
       "        vertical-align: top;\n",
       "    }\n",
       "\n",
       "    .dataframe thead th {\n",
       "        text-align: right;\n",
       "    }\n",
       "</style>\n",
       "<table border=\"1\" class=\"dataframe\">\n",
       "  <thead>\n",
       "    <tr style=\"text-align: right;\">\n",
       "      <th></th>\n",
       "      <th>xmin</th>\n",
       "      <th>ymin</th>\n",
       "      <th>xmax</th>\n",
       "      <th>ymax</th>\n",
       "      <th>confidence</th>\n",
       "      <th>class</th>\n",
       "      <th>name</th>\n",
       "    </tr>\n",
       "  </thead>\n",
       "  <tbody>\n",
       "    <tr>\n",
       "      <th>0</th>\n",
       "      <td>743.263489</td>\n",
       "      <td>48.335541</td>\n",
       "      <td>1141.763916</td>\n",
       "      <td>720.000000</td>\n",
       "      <td>0.879772</td>\n",
       "      <td>0</td>\n",
       "      <td>person</td>\n",
       "    </tr>\n",
       "    <tr>\n",
       "      <th>1</th>\n",
       "      <td>441.983124</td>\n",
       "      <td>437.341736</td>\n",
       "      <td>496.604156</td>\n",
       "      <td>710.067322</td>\n",
       "      <td>0.675118</td>\n",
       "      <td>27</td>\n",
       "      <td>tie</td>\n",
       "    </tr>\n",
       "    <tr>\n",
       "      <th>2</th>\n",
       "      <td>123.071503</td>\n",
       "      <td>193.221863</td>\n",
       "      <td>714.747437</td>\n",
       "      <td>719.758972</td>\n",
       "      <td>0.665718</td>\n",
       "      <td>0</td>\n",
       "      <td>person</td>\n",
       "    </tr>\n",
       "    <tr>\n",
       "      <th>3</th>\n",
       "      <td>978.987732</td>\n",
       "      <td>313.583679</td>\n",
       "      <td>1025.296631</td>\n",
       "      <td>415.531311</td>\n",
       "      <td>0.261255</td>\n",
       "      <td>27</td>\n",
       "      <td>tie</td>\n",
       "    </tr>\n",
       "  </tbody>\n",
       "</table>\n",
       "</div>"
      ],
      "text/plain": [
       "         xmin        ymin         xmax        ymax  confidence  class    name\n",
       "0  743.263489   48.335541  1141.763916  720.000000    0.879772      0  person\n",
       "1  441.983124  437.341736   496.604156  710.067322    0.675118     27     tie\n",
       "2  123.071503  193.221863   714.747437  719.758972    0.665718      0  person\n",
       "3  978.987732  313.583679  1025.296631  415.531311    0.261255     27     tie"
      ]
     },
     "execution_count": 1,
     "metadata": {},
     "output_type": "execute_result"
    }
   ],
   "source": [
    "import torch\n",
    "\n",
    "# Model\n",
    "model = torch.hub.load('ultralytics/yolov5', 'yolov5s', pretrained=True)\n",
    "\n",
    "# Images\n",
    "imgs = ['https://ultralytics.com/images/zidane.jpg']  # batch of images\n",
    "\n",
    "# Inference\n",
    "results = model(imgs)\n",
    "\n",
    "# Results\n",
    "results.print()\n",
    "results.save()  # or .show()\n",
    "\n",
    "results.xyxy[0]  # img1 predictions (tensor)\n",
    "results.pandas().xyxy[0]"
   ]
  },
  {
   "cell_type": "code",
   "execution_count": 2,
   "metadata": {},
   "outputs": [],
   "source": [
    "# Predict with the model\n",
    "results = model('https://ultralytics.com/images/bus.jpg') "
   ]
  }
 ],
 "metadata": {
  "kernelspec": {
   "display_name": "py310cv",
   "language": "python",
   "name": "python3"
  },
  "language_info": {
   "codemirror_mode": {
    "name": "ipython",
    "version": 3
   },
   "file_extension": ".py",
   "mimetype": "text/x-python",
   "name": "python",
   "nbconvert_exporter": "python",
   "pygments_lexer": "ipython3",
   "version": "3.11.8"
  }
 },
 "nbformat": 4,
 "nbformat_minor": 2
}
