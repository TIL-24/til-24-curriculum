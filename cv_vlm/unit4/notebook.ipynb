{
 "cells": [
  {
   "cell_type": "markdown",
   "metadata": {},
   "source": [
    "# Datasets for expected from LLaVa"
   ]
  },
  {
   "cell_type": "code",
   "execution_count": null,
   "metadata": {},
   "outputs": [],
   "source": [
    "[\n",
    "    {\n",
    "        \"id\": \"unique_id\",\n",
    "        \"image\": \"image_file.jpg\",\n",
    "        \"conversations\": [\n",
    "            {\n",
    "    \n",
    "                \"from\": \"human\",\n",
    "                \"value\": \"What is shown in the image?\"\n",
    "    \n",
    "            },\n",
    "            {\n",
    "                \"from\": \"gpt\",\n",
    "                \"value\": \"formatted_answers\"\n",
    "            }\n",
    "        ]\n",
    "    }\n",
    " \n",
    "]"
   ]
  }
 ],
 "metadata": {
  "language_info": {
   "name": "python"
  }
 },
 "nbformat": 4,
 "nbformat_minor": 2
}
