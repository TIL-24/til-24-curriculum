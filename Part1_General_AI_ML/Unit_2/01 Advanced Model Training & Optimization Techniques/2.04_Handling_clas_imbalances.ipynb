{
 "cells": [
  {
   "cell_type": "markdown",
   "metadata": {},
   "source": [
    "# Handling Class Imbalances in Machine Learning and Deep Learning\n",
    "\n",
    "Class imbalance is a prevalent issue in many machine learning and deep learning applications. It occurs when the number of examples in one class significantly outnumbers the examples in another class within a dataset. This disproportion can severely skew the performance of a model, often leading to a bias towards the majority class and poor predictive performance on the minority class. Such scenarios are especially problematic in critical areas like medical diagnosis, fraud detection, and sentiment analysis, where failing to correctly identify rare events could have serious consequences.\n",
    "\n",
    "The core challenge with class imbalance is that conventional models tend to optimize overall accuracy, neglecting the performance on the less represented class. This can result in models that appear high-performing when evaluated using metrics like accuracy but are actually ineffectual when it comes to detecting the minority class instances.\n",
    "\n",
    "This notebook explores strategies and techniques to handle class imbalances, thereby improving model robustness and fairness across classes.\n",
    "\n",
    "<img src=\"./imgs/class_imbalance.webp\" alt=\"drawing\" width=\"725\"/>\n"
   ]
  },
  {
   "cell_type": "markdown",
   "metadata": {},
   "source": [
    "## Exploring the Impact of Class Imbalance\n",
    "\n",
    "To better understand the impact of class imbalance on machine learning models, let's start by creating a synthetic dataset. This dataset will simulate a binary classification problem where one class significantly outnumbers the other. By applying a typical machine learning model to this dataset, we'll observe how class imbalance can affect model performance, particularly focusing on the precision, recall, and F1-score of the minority class.\n",
    "\n",
    "This exploration sets the stage for understanding why and how we should address class imbalances in real-world datasets.\n"
   ]
  },
  {
   "cell_type": "markdown",
   "metadata": {},
   "source": [
    "### **Installation**\n",
    "\n",
    "```bash\n",
    "pip install imbalanced-learn"
   ]
  },
  {
   "cell_type": "code",
   "execution_count": 2,
   "metadata": {},
   "outputs": [],
   "source": [
    "# Import necessary libraries\n",
    "import numpy as np\n",
    "import pandas as pd\n",
    "import matplotlib.pyplot as plt\n",
    "from sklearn.datasets import make_classification\n",
    "from sklearn.model_selection import train_test_split\n",
    "from imblearn.over_sampling import SMOTE\n",
    "from sklearn.ensemble import RandomForestClassifier\n",
    "from sklearn.metrics import classification_report, confusion_matrix\n",
    "from imblearn.over_sampling import SMOTE\n",
    "from sklearn.model_selection import train_test_split\n",
    "from tensorflow.keras.models import Sequential\n",
    "from tensorflow.keras.layers import Dense, Dropout\n",
    "from sklearn.preprocessing import StandardScaler\n",
    "from tensorflow import keras\n",
    "from sklearn.utils.class_weight import compute_class_weight"
   ]
  },
  {
   "cell_type": "code",
   "execution_count": 7,
   "metadata": {},
   "outputs": [
    {
     "data": {
      "image/png": "[encoded data removed]",
      "text/plain": [
       "<Figure size 500x400 with 1 Axes>"
      ]
     },
     "metadata": {},
     "output_type": "display_data"
    }
   ],
   "source": [
    "# Generate a synthetic dataset\n",
    "X, y = make_classification(n_classes=2, class_sep=2,\n",
    "                           weights=[0.9, 0.1], n_informative=3, n_redundant=1, flip_y=0,\n",
    "                           n_features=20, n_clusters_per_class=1, n_samples=1000, random_state=10)\n",
    "\n",
    "# Split the dataset into training and test sets\n",
    "X_train, X_test, y_train, y_test = train_test_split(X, y, test_size=0.25, random_state=42)\n",
    "\n",
    "# Define colors for each class\n",
    "colors = ['red', 'green']\n",
    "plt.figure(figsize=(5, 4))\n",
    "\n",
    "for i in range(2):  # Since you have two classes: 0 and 1\n",
    "    plt.hist(y[y == i], bins=np.arange(-0.5, 2, 1), rwidth=0.5, color=colors[i], alpha=0.7, label=f'Class {i}')\n",
    "\n",
    "plt.title(\"Class Distribution in Dataset\")\n",
    "plt.xticks([0, 1])\n",
    "plt.xlabel(\"Class\")\n",
    "plt.ylabel(\"Frequency\")\n",
    "plt.grid(axis='y')\n",
    "plt.legend()\n",
    "plt.show()\n"
   ]
  },
  {
   "cell_type": "markdown",
   "metadata": {},
   "source": [
    "## Strategies to Handle Class Imbalance\n",
    "\n",
    "Given the detrimental effects of class imbalance on model performance, various strategies have been developed to address this issue. These can be broadly categorized into data-level and algorithm-level methods:\n",
    "\n",
    "### Data-level Methods:\n",
    "- **Oversampling the Minority Class**: Increasing the number of minority class samples, for instance, by duplicating existing samples or generating synthetic ones using techniques like SMOTE (Synthetic Minority Over-sampling Technique).\n",
    "- **Undersampling the Majority Class**: Reducing the number of majority class samples to balance the class distribution. This method risks losing valuable data and is less ideal for very imbalanced datasets.\n",
    "\n",
    "### Algorithm-level Methods:\n",
    "- **Cost-sensitive Learning**: Modifying the learning algorithm to penalize misclassifications of the minority class more than those of the majority class.\n",
    "- **Ensemble Methods**: Leveraging ensemble learning techniques that combine multiple models to improve prediction accuracy, such as Random Forests or Boosted Trees, which can be made more sensitive to the minority class.\n",
    "\n",
    "Each of these strategies comes with its trade-offs, and the choice of strategy should be informed by the specific context and constraints of your project.\n"
   ]
  },
  {
   "cell_type": "markdown",
   "metadata": {},
   "source": [
    "### Deep Learning Techniques\n",
    "Class imbalance can significantly impact deep learning models, similar to traditional machine learning models. Deep learning models, with their capacity for high complexity, might overfit to the majority class if not properly regularized or if the class imbalance is not addressed. This can lead to poor generalization performance, especially on the minority class, which is often of greater interest in tasks such as anomaly detection, medical diagnosis, and fraud detection.\n",
    "\n",
    "In deep learning, we have several strategies to handle class imbalance:\n",
    "\n",
    "- **Class Weighting**: Adjusting the importance of classes proportionally to their representation in the data. This method allows the model to pay more attention to the minority class during training.\n",
    "- **Data Augmentation for Minority Class**: Generating new samples from the minority class by applying various transformations to the existing data.\n",
    "- **Use of Focal Loss Function**: Modifying the loss function to focus more on hard-to-classify examples, which often belong to the minority class.\n",
    "\n",
    "These techniques can help mitigate the effects of class imbalance and improve model performance across all classes."
   ]
  },
  {
   "cell_type": "markdown",
   "metadata": {},
   "source": [
    "### Evaluation Metrics\n",
    "\n",
    "Standard accuracy is  misleading with imbalanced data. Use metrics that consider class distribution:\n",
    "\n",
    "- **Precision**: Percentage of correctly identified positive cases among those predicted as positive.\n",
    "- **Recall (Sensitivity)**: Percentage of correctly identified positive cases.\n",
    "- **F1-Score**: Harmonic mean of precision and recall.\n",
    "- **Confusion Matrix**: Detailed visualization of correct and incorrect predictions per class."
   ]
  },
  {
   "cell_type": "markdown",
   "metadata": {},
   "source": [
    "## Handling Imbalance with Class Weighting\n",
    "\n",
    "To demonstrate how to address class imbalance in a deep learning context, we'll build a simple neural network using TensorFlow and Keras. Our goal is to classify the synthetic dataset created earlier, applying class weighting to adjust for the imbalance between classes.\n",
    "\n",
    "This example will highlight the setup of a neural network for binary classification, the computation of class weights, and the incorporation of these weights during model training. We aim to improve the model's performance on the minority class without sacrificing overall accuracy.\n"
   ]
  },
  {
   "cell_type": "code",
   "execution_count": 5,
   "metadata": {},
   "outputs": [
    {
     "name": "stdout",
     "output_type": "stream",
     "text": [
      "Class weights: {0: 0.5514705882352942, 1: 5.357142857142857}\n",
      "Test Loss: 0.01796470768749714\n",
      "Test Accuracy: 0.9879999756813049\n"
     ]
    }
   ],
   "source": [
    "# Prepare the data\n",
    "X_train, X_test, y_train, y_test = train_test_split(X, y, test_size=0.25, random_state=42)\n",
    "\n",
    "# Compute class weights\n",
    "class_weights = compute_class_weight('balanced', classes=np.unique(y_train), y=y_train)\n",
    "class_weight_dict = dict(enumerate(class_weights))\n",
    "\n",
    "print(\"Class weights:\", class_weight_dict)\n",
    "\n",
    "# Define the model\n",
    "model = keras.Sequential([\n",
    "    keras.layers.Dense(64, activation='relu', input_shape=(X_train.shape[1],)),\n",
    "    keras.layers.Dropout(0.5),\n",
    "    keras.layers.Dense(32, activation='relu'),\n",
    "    keras.layers.Dropout(0.5),\n",
    "    keras.layers.Dense(1, activation='sigmoid')\n",
    "])\n",
    "\n",
    "# Compile the model\n",
    "model.compile(optimizer='adam',\n",
    "              loss='binary_crossentropy',\n",
    "              metrics=['accuracy'])\n",
    "\n",
    "# Train the model with class weighting\n",
    "history = model.fit(X_train, y_train, epochs=100, batch_size=32,\n",
    "                    validation_split=0.2, class_weight=class_weight_dict, verbose=0)\n",
    "\n",
    "# Evaluate the model\n",
    "loss, accuracy = model.evaluate(X_test, y_test, verbose=0)\n",
    "print(f\"Test Loss: {loss}\\nTest Accuracy: {accuracy}\")\n"
   ]
  },
  {
   "cell_type": "markdown",
   "metadata": {},
   "source": [
    "### Accounting for Class Imbalance in the Deep Learning Model\n",
    "\n",
    "In our deep learning model example, we address class imbalance by implementing class weighting. This approach adjusts the importance of classes proportionally to how underrepresented they are in the data. Specifically, we calculate class weights based on the inverse frequency of the classes in the training data, assigning higher weights to the minority class. These weights are then passed to the model during the training process through the `class_weight` parameter in the `fit` method.\n",
    "\n",
    "By applying class weights, we effectively tell the model that mistakes made on the minority class are more costly than mistakes made on the majority class. This encourages the model to pay more attention to getting predictions right on the minority class, thereby mitigating the bias towards the majority class that is often seen in imbalanced datasets.\n",
    "\n",
    "This method does not change the distribution of the classes in the dataset; instead, it modifies the learning algorithm to be more sensitive to the minority class. It's a powerful technique for deep learning models, where data resampling might not always be practical due to the large dataset sizes. Class weighting is a straightforward yet effective strategy to enhance model performance on imbalanced datasets, ensuring that the model learns to recognize patterns from all classes equally well.\n"
   ]
  },
  {
   "cell_type": "markdown",
   "metadata": {},
   "source": [
    "## Handling Class Imbalance using SMOTE"
   ]
  },
  {
   "cell_type": "markdown",
   "metadata": {},
   "source": [
    "Let's expand the example to include the use of SMOTE for handling class imbalance, followed by training a deep learning model. We will first show how to apply SMOTE to our synthetic dataset and then proceed to build and train the deep learning model."
   ]
  },
  {
   "cell_type": "code",
   "execution_count": 6,
   "metadata": {},
   "outputs": [],
   "source": [
    "# Splitting the dataset into training and test sets\n",
    "X_train, X_test, y_train, y_test = train_test_split(X, y, test_size=0.25, random_state=42)\n",
    "\n",
    "# Standardizing the features\n",
    "scaler = StandardScaler()\n",
    "X_train_scaled = scaler.fit_transform(X_train)\n",
    "X_test_scaled = scaler.transform(X_test)\n",
    "\n",
    "# Applying SMOTE to the training data\n",
    "smote = SMOTE(random_state=42)\n",
    "X_train_smote, y_train_smote = smote.fit_resample(X_train_scaled, y_train)"
   ]
  },
  {
   "cell_type": "code",
   "execution_count": 7,
   "metadata": {},
   "outputs": [
    {
     "name": "stdout",
     "output_type": "stream",
     "text": [
      "Test Loss: 0.003959707450121641\n",
      "Test Accuracy: 0.9959999918937683\n"
     ]
    }
   ],
   "source": [
    "# Define the deep learning model\n",
    "model = Sequential([\n",
    "    Dense(64, activation='relu', input_dim=X_train_smote.shape[1]),\n",
    "    Dropout(0.5),\n",
    "    Dense(32, activation='relu'),\n",
    "    Dropout(0.5),\n",
    "    Dense(1, activation='sigmoid')\n",
    "])\n",
    "\n",
    "# Compile the model\n",
    "model.compile(optimizer='adam', loss='binary_crossentropy', metrics=['accuracy'])\n",
    "\n",
    "# Train the model\n",
    "history = model.fit(X_train_smote, y_train_smote, epochs=100, batch_size=32, validation_split=0.2, verbose=0)\n",
    "\n",
    "# Evaluate the model on the test set\n",
    "loss, accuracy = model.evaluate(X_test_scaled, y_test, verbose=0)\n",
    "print(f'Test Loss: {loss}\\nTest Accuracy: {accuracy}')\n"
   ]
  },
  {
   "cell_type": "markdown",
   "metadata": {},
   "source": [
    "### Incorporating SMOTE for Class Imbalance in Deep Learning\n",
    "\n",
    "In addition to class weighting, another effective technique for handling class imbalance in deep learning is the Synthetic Minority Over-sampling Technique (SMOTE). SMOTE works by creating synthetic samples from the minority class instead of simply duplicating existing samples. This is achieved by finding the k-nearest neighbors in the feature space for each minority class sample and randomly choosing one of these neighbors to create a new, synthetic data point somewhere between the original sample and its neighbor.\n",
    "\n",
    "The integration of SMOTE in our deep learning workflow involves a few key steps prior to model training:\n",
    "\n",
    "1. **Data Preparation**: Before applying SMOTE, we split our dataset into training and testing sets to ensure that synthetic data augmentation only affects the training data, preserving the original distribution of the test set for unbiased evaluation.\n",
    "\n",
    "2. **Applying SMOTE**: We then apply SMOTE to the training data, focusing on the minority class. SMOTE adjusts the class distribution towards a more balanced state, thereby providing a richer and more diverse set of examples for the model to learn from. This process not only helps in addressing the imbalance but also in potentially enhancing the model's generalization capabilities by introducing variability into the training data.\n",
    "\n",
    "3. **Model Training**: With a balanced training dataset achieved through SMOTE, the deep learning model can be trained in a more traditional manner. Since the class distribution is more balanced, the model's training process can focus on learning discriminative features from both classes without a significant bias towards the majority class.\n",
    "\n",
    "4. **Evaluation and Analysis**: After training, the model is evaluated on the untouched test set. This step is crucial for assessing the true performance of the model, as it reveals how well the model generalizes to new, unseen data, reflecting the effectiveness of SMOTE in combating class imbalance.\n",
    "\n",
    "By leveraging SMOTE alongside or in place of class weighting, we can address the class imbalance issue at the data level, enriching the training dataset with synthetic examples that help the model learn a more balanced representation of the classes. This approach is particularly useful in deep learning, where the model's capacity to learn complex patterns can be better exploited with a diverse and balanced training set.\n"
   ]
  },
  {
   "cell_type": "markdown",
   "metadata": {},
   "source": [
    "## Conclusion\n",
    "\n",
    "Addressing class imbalance is a crucial step in preparing a machine learning or deep learning model for real-world applications. By employing strategic approaches such as resampling the dataset or adapting the learning algorithm, we can mitigate the bias towards the majority class and improve the model's performance on the minority class. The choice of strategy should be carefully considered based on the dataset's characteristics and the specific requirements of the task at hand.\n",
    "\n",
    "Effective handling of class imbalance not only improves model accuracy but also enhances its fairness and utility across diverse scenarios, ensuring that the benefits of machine learning are accessible and equitable.\n"
   ]
  }
 ],
 "metadata": {
  "kernelspec": {
   "display_name": "venv_ml",
   "language": "python",
   "name": "python3"
  },
  "language_info": {
   "codemirror_mode": {
    "name": "ipython",
    "version": 3
   },
   "file_extension": ".py",
   "mimetype": "text/x-python",
   "name": "python",
   "nbconvert_exporter": "python",
   "pygments_lexer": "ipython3",
   "version": "3.11.6"
  },
  "orig_nbformat": 4
 },
 "nbformat": 4,
 "nbformat_minor": 2
}
