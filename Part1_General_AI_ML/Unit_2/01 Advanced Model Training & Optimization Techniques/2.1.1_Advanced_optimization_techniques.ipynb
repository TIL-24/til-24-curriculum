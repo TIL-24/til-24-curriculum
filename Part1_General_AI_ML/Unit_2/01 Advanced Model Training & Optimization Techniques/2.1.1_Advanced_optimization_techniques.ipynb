{
 "cells": [
  {
   "cell_type": "markdown",
   "metadata": {},
   "source": [
    "# Advanced Optimizations in Deep Learning\n",
    "\n",
    "Optimization algorithms play a crucial role in deep learning, helping models learn from data by minimizing or maximizing an objective function. Advanced optimizers like Adam and RMSProp incorporate mechanisms that consider not just the first derivatives of the loss function but also the second moments of the gradients or adaptive learning rates, thereby enhancing the performance and convergence speed of deep neural networks.\n",
    "\n",
    "https://www.ruder.io/optimizing-gradient-descent/"
   ]
  },
  {
   "cell_type": "markdown",
   "metadata": {},
   "source": [
    "<img src=\"./imgs/deep_learning_optimization.jpeg\" alt=\"drawing\" width=\"725\"/>"
   ]
  },
  {
   "cell_type": "markdown",
   "metadata": {},
   "source": [
    "### Stochastic Gradient Descent\n",
    "\n",
    "Stochastic Gradient Descent (SGD) is the fundamental optimizer in Deep Learning. It iteratively updates the weights of a neural network based on the negative gradient of the loss function. This essentially pushes the weights in a direction that minimizes the loss. However, SGD has limitations:\n",
    "\n",
    "* **Slow Convergence:** SGD can be slow to converge, especially in landscapes with many shallow valleys (local minima). Imagine a ball rolling down a bumpy hill. It might get stuck in a small valley instead of reaching the global minimum at the bottom.\n",
    "\n",
    "* **Sensitivity to Learning Rate:** The learning rate hyperparameter controls the step size taken during each update. Too high a learning rate can cause the weights to overshoot the minimum, bouncing around like a ball with too much momentum. Conversely, a very small learning rate makes the journey to the minimum painstakingly slow. \n"
   ]
  },
  {
   "cell_type": "markdown",
   "metadata": {},
   "source": [
    "### RMSProp (Root Mean Squared Prop)\n",
    "\n",
    "RMSProp addresses SGD's sensitivity to learning rates by introducing an **exponentially decaying average of squared gradients**. This average is used to scale the learning rate for each parameter, leading to **adaptive learning behavior**.\n",
    "\n",
    "* **Analogy:** Imagine a ball rolling down a hill, but the ground is constantly changing its friction. RMSProp adjusts the ball's speed based on the recent steepness it encountered. \n",
    "\n",
    "* **Benefits:**\n",
    "    * **Faster Convergence:** Compared to SGD's constant learning rate, RMSProp's adaptation often leads to faster convergence.\n",
    "    * **Handles Non-stationary Problems:** RMSProp can navigate the changing landscape more effectively when working with noisy or non-stationary data.\n",
    "\n",
    "\n",
    "<img src=\"./imgs/contour.webp\" alt=\"drawing\" width=\"500\"/>\n"
   ]
  },
  {
   "cell_type": "markdown",
   "metadata": {},
   "source": [
    "### Adam (Adaptive Moment Estimation)\n",
    "\n",
    "Adam is an optimizer that combines the strengths of SGD, Momentum, and RMSProp. It maintains an exponentially decaying average of gradients (similar to RMSProp) and another average of squared gradients with a bias correction. \n",
    "\n",
    "* **Analogy:** Imagine a ball with built-in momentum rolling on a complex surface. Adam considers both the immediate slope and the historical fluctuations to update the learning rate, leading to efficient navigation.\n",
    "\n",
    "* **Benefits:**\n",
    "    * **Often the Best Performer:** Adam is frequently considered the default choice due to its effectiveness across various problems. \n",
    "    * **Minimal Hyperparameter Tuning:** Adam generally requires less hyperparameter tuning compared to SGD or RMSprop.\n",
    "    * **Works Well for Sparse Gradients:** Adam addresses the issue of weights that have very small or zero gradients in certain neural networks. \n",
    "\n",
    "\n",
    "![Adam Optimization](imgs/gradient_descent.gif)"
   ]
  },
  {
   "cell_type": "markdown",
   "metadata": {},
   "source": [
    "### Comparison of Optimizers\n",
    "\n",
    "To compare the performance of SGD, RMSProp, and Adam optimizers on the MNIST dataset, we'll perform the following steps:\n",
    "\n",
    "1. Load the MNIST dataset.\n",
    "2. Preprocess the data.\n",
    "3. Define a simple neural network model for digit classification.\n",
    "4. Train the model using each of the three optimizers: SGD, RMSProp, and Adam.\n",
    "5. Evaluate and compare the performance of the models.\n"
   ]
  },
  {
   "cell_type": "markdown",
   "metadata": {},
   "source": [
    "#### 1. Load the MNIST Dataset"
   ]
  },
  {
   "cell_type": "code",
   "execution_count": 1,
   "metadata": {},
   "outputs": [],
   "source": [
    "import tensorflow as tf\n",
    "\n",
    "# Load the MNIST dataset\n",
    "mnist = tf.keras.datasets.mnist\n",
    "(X_train, y_train), (X_test, y_test) = mnist.load_data()\n",
    "\n",
    "# Normalize the data\n",
    "X_train, X_test = X_train / 255.0, X_test / 255.0\n"
   ]
  },
  {
   "cell_type": "markdown",
   "metadata": {},
   "source": [
    "#### 2. Define the Neural Network Model"
   ]
  },
  {
   "cell_type": "code",
   "execution_count": 2,
   "metadata": {},
   "outputs": [],
   "source": [
    "def create_model(optimizer):\n",
    "    model = tf.keras.Sequential([\n",
    "        tf.keras.layers.Flatten(input_shape=(28, 28)),\n",
    "        tf.keras.layers.Dense(128, activation='relu'),\n",
    "        tf.keras.layers.Dropout(0.2),\n",
    "        tf.keras.layers.Dense(10, activation='softmax')\n",
    "    ])\n",
    "    \n",
    "    model.compile(optimizer=optimizer, # set the optimizer here\n",
    "                  loss='sparse_categorical_crossentropy',\n",
    "                  metrics=['accuracy'])\n",
    "    return model\n"
   ]
  },
  {
   "cell_type": "markdown",
   "metadata": {},
   "source": [
    "#### 3. Train Models with Different Optimizers"
   ]
  },
  {
   "cell_type": "code",
   "execution_count": 3,
   "metadata": {},
   "outputs": [
    {
     "name": "stdout",
     "output_type": "stream",
     "text": [
      "Training with SGD optimizer...\n",
      "SGD - Test Loss: 0.2307, Test Accuracy: 0.9362, Training Time: 5.30 seconds\n",
      "\n",
      "Training with RMSPROP optimizer...\n",
      "RMSPROP - Test Loss: 0.1050, Test Accuracy: 0.9720, Training Time: 6.45 seconds\n",
      "\n",
      "Training with ADAM optimizer...\n",
      "ADAM - Test Loss: 0.0792, Test Accuracy: 0.9763, Training Time: 5.62 seconds\n",
      "\n"
     ]
    }
   ],
   "source": [
    "import time\n",
    "\n",
    "# Experiment with different optimizers (try SGD, RMSprop, Adam)\n",
    "optimizers = ['sgd', 'rmsprop', 'adam']\n",
    "results = {}\n",
    "\n",
    "for opt in optimizers:\n",
    "    print(f\"Training with {opt.upper()} optimizer...\")\n",
    "    start_time = time.time()\n",
    "    model = create_model(opt)\n",
    "    history = model.fit(X_train, y_train, epochs=5, validation_split=0.2, verbose=0)\n",
    "    duration = time.time() - start_time\n",
    "    test_loss, test_acc = model.evaluate(X_test, y_test, verbose=0)\n",
    "    results[opt] = (test_loss, test_acc, duration)\n",
    "    print(f\"{opt.upper()} - Test Loss: {test_loss:.4f}, Test Accuracy: {test_acc:.4f}, Training Time: {duration:.2f} seconds\\n\")\n"
   ]
  },
  {
   "cell_type": "markdown",
   "metadata": {},
   "source": [
    "#### 4. Evaluation and Comparison"
   ]
  },
  {
   "cell_type": "code",
   "execution_count": 4,
   "metadata": {},
   "outputs": [
    {
     "name": "stdout",
     "output_type": "stream",
     "text": [
      "SGD: Loss = 0.2307, Accuracy = 0.9362, Time = 5.30 seconds\n",
      "RMSPROP: Loss = 0.1050, Accuracy = 0.9720, Time = 6.45 seconds\n",
      "ADAM: Loss = 0.0792, Accuracy = 0.9763, Time = 5.62 seconds\n"
     ]
    }
   ],
   "source": [
    "for opt, (loss, acc, time) in results.items():\n",
    "    print(f\"{opt.upper()}: Loss = {loss:.4f}, Accuracy = {acc:.4f}, Time = {time:.2f} seconds\")\n"
   ]
  },
  {
   "cell_type": "markdown",
   "metadata": {},
   "source": [
    "Comparing SGD, RMSProp, and Adam on the MNIST dataset illustrates the impact of advanced optimization techniques in deep learning training. While SGD serves as a solid baseline, optimizers that adjust learning rates adaptively, such as RMSProp and Adam, can significantly enhance model performance. Adam, in particular, stands out for achieving the best balance between high accuracy, low loss, and reasonable training time, making it an excellent choice for many deep learning tasks. "
   ]
  },
  {
   "cell_type": "markdown",
   "metadata": {},
   "source": [
    "### Choosing the Right Optimizer\n",
    "\n",
    "* **There's No Silver Bullet:** The optimal optimizer choice depends on the specific problem, dataset, and model architecture. Experimentation is key!\n",
    "* **Start with Adam:** Due to its robustness and adaptability, Adam is an excellent starting point for most deep learning tasks.\n",
    "* **Consider RMSProp for Noisy Data:** If your data exhibits significant noise or non-stationarity, RMSProp might be a better choice than Adam. \n",
    "* **Fine-Tuning with SGD:**  In some cases, switching to SGD with a carefully selected learning rate can help refine a model that's already been pre-trained with Adam or RMSprop. \n",
    "\n",
    "**Remember:** The best way to determine the most suitable optimizer for your deep learning project is through experimentation! \n"
   ]
  }
 ],
 "metadata": {
  "kernelspec": {
   "display_name": "venv_ml",
   "language": "python",
   "name": "python3"
  },
  "language_info": {
   "codemirror_mode": {
    "name": "ipython",
    "version": 3
   },
   "file_extension": ".py",
   "mimetype": "text/x-python",
   "name": "python",
   "nbconvert_exporter": "python",
   "pygments_lexer": "ipython3",
   "version": "3.11.6"
  },
  "orig_nbformat": 4
 },
 "nbformat": 4,
 "nbformat_minor": 2
}
