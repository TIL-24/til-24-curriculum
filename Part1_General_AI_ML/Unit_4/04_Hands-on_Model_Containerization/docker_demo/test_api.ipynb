{
 "cells": [
  {
   "cell_type": "code",
   "execution_count": 4,
   "id": "8b9891f8-9422-495e-a468-47b3b32bc6b4",
   "metadata": {
    "tags": []
   },
   "outputs": [
    {
     "name": "stdout",
     "output_type": "stream",
     "text": [
      "{'predicted_class': 847}\n"
     ]
    }
   ],
   "source": [
    "import requests\n",
    "\n",
    "# URL of the FastAPI endpoint\n",
    "url = 'http://localhost:8000/predict/'\n",
    "\n",
    "# Path to the image file\n",
    "file_path = '/home/jupyter/docker_demo/imgs/tank.jpeg' \n",
    "\n",
    "# Open the image file in binary mode\n",
    "with open(file_path, 'rb') as f:\n",
    "    # Prepare the request payload as a dictionary\n",
    "    files = {'file': (file_path, f, 'image/jpeg')}\n",
    "    \n",
    "    # Send the POST request\n",
    "    response = requests.post(url, files=files)\n",
    "\n",
    "# Print the response\n",
    "print(response.json())\n"
   ]
  }
 ],
 "metadata": {
  "environment": {
   "kernel": "conda-env-pytorch-pytorch",
   "name": "workbench-notebooks.m119",
   "type": "gcloud",
   "uri": "us-docker.pkg.dev/deeplearning-platform-release/gcr.io/workbench-notebooks:m119"
  },
  "kernelspec": {
   "display_name": "PyTorch 1-13",
   "language": "python",
   "name": "conda-env-pytorch-pytorch"
  },
  "language_info": {
   "codemirror_mode": {
    "name": "ipython",
    "version": 3
   },
   "file_extension": ".py",
   "mimetype": "text/x-python",
   "name": "python",
   "nbconvert_exporter": "python",
   "pygments_lexer": "ipython3",
   "version": "3.10.14"
  }
 },
 "nbformat": 4,
 "nbformat_minor": 5
}
