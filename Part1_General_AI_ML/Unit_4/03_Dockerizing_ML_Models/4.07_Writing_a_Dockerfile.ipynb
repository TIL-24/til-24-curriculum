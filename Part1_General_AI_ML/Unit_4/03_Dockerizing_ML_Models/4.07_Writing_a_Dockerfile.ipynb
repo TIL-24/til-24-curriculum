{
 "cells": [
  {
   "cell_type": "markdown",
   "metadata": {},
   "source": [
    "# Writing a Dockerfile for an ML model"
   ]
  },
  {
   "cell_type": "markdown",
   "metadata": {
    "vscode": {
     "languageId": "plaintext"
    }
   },
   "source": [
    "### Why Docker for Machine Learning?"
   ]
  },
  {
   "cell_type": "markdown",
   "metadata": {
    "vscode": {
     "languageId": "plaintext"
    }
   },
   "source": [
    "Machine learning projects often have complex dependencies. Docker lets us nail down these dependencies and isolate our project's environment. Using Docker, we can share and deploy models along with their exact runtime environment consistently."
   ]
  },
  {
   "cell_type": "markdown",
   "metadata": {
    "vscode": {
     "languageId": "plaintext"
    }
   },
   "source": [
    "### Dockerfiles"
   ]
  },
  {
   "cell_type": "markdown",
   "metadata": {
    "vscode": {
     "languageId": "plaintext"
    }
   },
   "source": [
    " The Dockerfile is where we precisely define our model's environment. It is a blueprint containing instructions for building a Docker image. Each line in the Dockerfile represents a stage in the image construction process."
   ]
  },
  {
   "cell_type": "markdown",
   "metadata": {
    "vscode": {
     "languageId": "plaintext"
    }
   },
   "source": [
    "### Anatomy of a Dockerfile"
   ]
  },
  {
   "cell_type": "markdown",
   "metadata": {
    "vscode": {
     "languageId": "plaintext"
    }
   },
   "source": [
    "- `FROM`: Specifies the base image.\n",
    "- `RUN`: Executes commands to install dependencies.\n",
    "- `COPY`: Copies your model code and other files into the image\n",
    "- `WORKDIR`: Sets the working directory within the image.\n",
    "- `CMD` or `ENTRYPOINT`: Defines the command to run when the container starts."
   ]
  },
  {
   "cell_type": "markdown",
   "metadata": {
    "vscode": {
     "languageId": "plaintext"
    }
   },
   "source": [
    "### Example: ML Model Dockerfile"
   ]
  },
  {
   "cell_type": "markdown",
   "metadata": {
    "vscode": {
     "languageId": "plaintext"
    }
   },
   "source": [
    "```docker\n",
    "FROM python:3.9\n",
    "WORKDIR /model_app\n",
    "COPY requirements.txt ./ \n",
    "RUN pip install -r requirements.txt\n",
    "COPY model.pkl ./\n",
    "COPY app.py ./\n",
    "CMD [\"python\", \"app.py\"] \n",
    "```"
   ]
  },
  {
   "cell_type": "markdown",
   "metadata": {
    "vscode": {
     "languageId": "plaintext"
    }
   },
   "source": [
    "Let's break down the above Dockerfile step by step:"
   ]
  },
  {
   "cell_type": "markdown",
   "metadata": {
    "vscode": {
     "languageId": "plaintext"
    }
   },
   "source": [
    "```Docker\n",
    "FROM python:3.9\n",
    "```\n",
    "- This line specifies the base image for our Docker container. Here, we're using the official Python 3.9 image from Docker Hub.\n",
    "The `FROM` instruction is the foundation; it determines the operating system and potentially some pre-installed tools your model will depend on.\n",
    "\n",
    "```Docker\n",
    "WORKDIR /app\n",
    "```\n",
    "- This sets the working directory within the container. Any subsequent file copy or command execution will occur relative to this directory.\n",
    "Here, we're setting it to `/app`. This helps organize our files within the container.\n",
    "\n",
    "```Docker\n",
    "COPY requirements.txt ./\n",
    "```\n",
    "- This line copies a file named `requirements.txt` from your host machine (where you're building the Dockerfile) into the working directory `/app` we established earlier within the container.\n",
    "The `COPY` instruction is how you bring your project's code and any additional files into the image.\n",
    "\n",
    "```Docker\n",
    "RUN pip install -r requirements.txt\n",
    "```\n",
    "\n",
    "- This line executes a command within the container. It uses pip (the Python package installer) to install all the dependencies listed in the `requirements.txt` file we just copied.\n",
    "The `RUN` instruction lets you install packages or perform any other setup steps necessary for your application within the container.\n",
    "\n",
    "```Docker\n",
    "COPY model.pkl ./\n",
    "```\n",
    "- This line is similar to `COPY requirements.txt ./`. Here, we're copying our trained model file, `model.pkl`, from the host machine into the working directory `/app` within the container.\n",
    "\n",
    "```Docker\n",
    "COPY app.py ./\n",
    "```\n",
    "- Likewise, we're copying our Python script, app.py, which interacts with the model, from the host machine into the working directory `/app` within the container.\n",
    "\n",
    "```Docker\n",
    "EXPOSE 5000\n",
    "```\n",
    "- This line exposes port 5000 within the container. This is important because our Flask app in `app.py` listens on port 5000 to receive prediction requests.\n",
    "The `EXPOSE` instruction tells Docker which ports the application uses within the container. This doesn't map the port to the host machine yet.\n",
    "\n",
    "```Docker\n",
    "CMD [\"python\", \"app.py\"]\n",
    "```\n",
    "- This line defines the default command to run when the container starts. Here, we're specifying to run Python and execute the `app.py` script, which launches our Flask application.\n",
    "The `CMD` instruction is essential for how your model will be executed within the container."
   ]
  },
  {
   "cell_type": "markdown",
   "metadata": {
    "vscode": {
     "languageId": "plaintext"
    }
   },
   "source": [
    "This Dockerfile essentially creates a self-contained environment with all the dependencies and our application code needed to run the model. When you build the image and run the container, it will have everything required to function, regardless of the host machine's specific environment."
   ]
  }
 ],
 "metadata": {
  "language_info": {
   "name": "python"
  }
 },
 "nbformat": 4,
 "nbformat_minor": 2
}
