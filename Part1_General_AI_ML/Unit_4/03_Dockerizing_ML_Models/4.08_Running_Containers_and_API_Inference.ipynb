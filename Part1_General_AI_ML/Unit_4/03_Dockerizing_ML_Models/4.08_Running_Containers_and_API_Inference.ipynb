{
 "cells": [
  {
   "cell_type": "markdown",
   "metadata": {},
   "source": [
    "# Running ML Model Containers and APIs for Model Inference"
   ]
  },
  {
   "cell_type": "markdown",
   "metadata": {
    "vscode": {
     "languageId": "plaintext"
    }
   },
   "source": [
    "Building and running Machine Learning model containers is a powerful approach to deploying ML models, allowing for easy scaling, portability, and version control. This notebook will guide you through:\n",
    "- Building and running a Docker container for an ML model\n",
    "- Use FastAPI to make the ML model accessible through a REST API endpoint to get predictions by sending data to the model"
   ]
  },
  {
   "cell_type": "markdown",
   "metadata": {
    "vscode": {
     "languageId": "plaintext"
    }
   },
   "source": [
    "### Step 1: Setting Up Your Project\n",
    "First, create a new directory for the project and navigate into it. "
   ]
  },
  {
   "cell_type": "markdown",
   "metadata": {
    "vscode": {
     "languageId": "plaintext"
    }
   },
   "source": [
    "```bash\n",
    "mkdir ml_model_container\n",
    "cd ml_model_container\n",
    "```"
   ]
  },
  {
   "cell_type": "markdown",
   "metadata": {
    "vscode": {
     "languageId": "plaintext"
    }
   },
   "source": [
    "(Note: `ml_model_container` can be found within this notebook's folder for easy reference.)"
   ]
  },
  {
   "cell_type": "markdown",
   "metadata": {
    "vscode": {
     "languageId": "plaintext"
    }
   },
   "source": [
    "Inside this directory, create three files:\n",
    "- `main.py` (for our FastAPI app) \n",
    "- `Dockerfile` (to define our Docker container)\n",
    "- `requirements.txt` file (to list our Python dependencies)"
   ]
  },
  {
   "cell_type": "markdown",
   "metadata": {
    "vscode": {
     "languageId": "plaintext"
    }
   },
   "source": [
    "### Step 2: Creating the ML Model\n",
    "\n",
    "For this example, we will use a simple linear regression model using scikit-learn. Our model will predict a value based on a single feature. This step is simplified for demonstration purposes."
   ]
  },
  {
   "cell_type": "markdown",
   "metadata": {
    "vscode": {
     "languageId": "plaintext"
    }
   },
   "source": [
    "In `main.py`, add:\n",
    "\n",
    "```python\n",
    "from fastapi import FastAPI\n",
    "from sklearn.linear_model import LinearRegression\n",
    "import numpy as np\n",
    "\n",
    "app = FastAPI()\n",
    "\n",
    "# Simple model training\n",
    "X = np.array([[1], [2], [3], [4], [5]])\n",
    "y = np.array([2, 4, 6, 8, 10])\n",
    "model = LinearRegression().fit(X, y)\n",
    "\n",
    "# Exposing an API for inference\n",
    "@app.get(\"/predict/\")\n",
    "def predict(value: float):\n",
    "    prediction = model.predict(np.array([[value]]))\n",
    "    return {\"prediction\": prediction[0]}\n",
    "\n",
    "```"
   ]
  },
  {
   "cell_type": "markdown",
   "metadata": {
    "vscode": {
     "languageId": "plaintext"
    }
   },
   "source": [
    "### Step 3: Setting Up FastAPI"
   ]
  },
  {
   "cell_type": "markdown",
   "metadata": {
    "vscode": {
     "languageId": "plaintext"
    }
   },
   "source": [
    "The `FastAPI` setup is already included in the `main.py` code. FastAPI will serve our ML model's predictions through a simple API."
   ]
  },
  {
   "cell_type": "markdown",
   "metadata": {
    "vscode": {
     "languageId": "plaintext"
    }
   },
   "source": [
    "### Step 4: Creating the Dockerfile\n",
    "\n",
    "The Dockerfile defines the environment and instructions for running your application in a Docker container.\n",
    "\n",
    "In `Dockerfile`, add:\n",
    "```Docker\n",
    "# Use an official Python runtime as a parent image\n",
    "FROM python:3.8-slim\n",
    "\n",
    "# Set the working directory in the container\n",
    "WORKDIR /usr/src/app\n",
    "\n",
    "# Copy the current directory contents into the container at /usr/src/app\n",
    "COPY . .\n",
    "\n",
    "# Install any needed packages specified in requirements.txt\n",
    "RUN pip install --no-cache-dir -r requirements.txt\n",
    "\n",
    "# Make port 80 available to the world outside this container\n",
    "EXPOSE 80\n",
    "\n",
    "# Define environment variable\n",
    "ENV MODEL_NAME MyModel\n",
    "\n",
    "# Run main.py when the container launches\n",
    "CMD [\"uvicorn\", \"main:app\", \"--host\", \"0.0.0.0\", \"--port\", \"80\"]\n",
    "```\n"
   ]
  },
  {
   "cell_type": "markdown",
   "metadata": {
    "vscode": {
     "languageId": "plaintext"
    }
   },
   "source": [
    "### Step 5: Defining Requirements\n",
    "In `requirements.txt`, list all the required packages:\n",
    "\n",
    "```tex\n",
    "fastapi\n",
    "uvicorn\n",
    "scikit-learn\n",
    "numpy\n",
    "```"
   ]
  },
  {
   "cell_type": "markdown",
   "metadata": {
    "vscode": {
     "languageId": "plaintext"
    }
   },
   "source": [
    "### Step 6: Building and Running Your Container\n",
    "Navigate to your project directory in a terminal. Build your Docker container with:\n",
    "```bash\n",
    "docker build -t ml_model_container .\n",
    "```\n",
    "<img src=\"./imgs/docker_build.png\" alt=\"drawing\" width=\"8000\"/>\n",
    "\n",
    "After the build completes, run your container:\n",
    "```bash\n",
    "docker run -p 8000:80 ml_model_container\n",
    "```\n",
    "<img src=\"./imgs/docker_run.png\" alt=\"drawing\" width=\"650\"/>\n",
    "\n",
    "This command maps port 8000 on your host to port 80 on the container, making your API accessible at `http://localhost:8000`"
   ]
  },
  {
   "cell_type": "markdown",
   "metadata": {
    "vscode": {
     "languageId": "plaintext"
    }
   },
   "source": [
    "### Step 7: Testing Your API\n",
    "With your container running, you can test the prediction endpoint. Open a web browser or use a tool like curl to access:\n",
    "http://localhost:8000/predict/?value=6\n",
    "\n",
    "<img src=\"./imgs/inference.png\" alt=\"drawing\" width=\"450\"/>"
   ]
  },
  {
   "cell_type": "markdown",
   "metadata": {
    "vscode": {
     "languageId": "plaintext"
    }
   },
   "source": [
    "We have just built and run a Docker container for an ML model. And using FastAPI made it accessible via HTTP requests."
   ]
  }
 ],
 "metadata": {
  "language_info": {
   "name": "python"
  }
 },
 "nbformat": 4,
 "nbformat_minor": 2
}
