{
 "cells": [
  {
   "cell_type": "markdown",
   "metadata": {},
   "source": [
    "# Running a Webapp using Docker"
   ]
  },
  {
   "cell_type": "markdown",
   "metadata": {
    "vscode": {
     "languageId": "plaintext"
    }
   },
   "source": [
    "In this guide, we will learn to containerize and run a simple FastAPI web application using Docker. FastAPI is a modern, fast web framework for building APIs with Python. By leveraging an existing Docker image specifically tailored for FastAPI applications, we can quickly set up and deploy your application in a Docker container, without the need for manually create a Dockerfile. This approach simplifies the development and deployment process, making it accessible even to those new to Docker or FastAPI. "
   ]
  },
  {
   "cell_type": "markdown",
   "metadata": {
    "vscode": {
     "languageId": "plaintext"
    }
   },
   "source": [
    "### Prerequisites\n",
    "- Docker: Ensure Docker is installed and running on your machine. "
   ]
  },
  {
   "cell_type": "markdown",
   "metadata": {
    "vscode": {
     "languageId": "plaintext"
    }
   },
   "source": [
    "### Step 1: Setting up a FastAPI Application"
   ]
  },
  {
   "cell_type": "markdown",
   "metadata": {
    "vscode": {
     "languageId": "plaintext"
    }
   },
   "source": [
    "Create a new project directory on your computer. This can be done by opening a terminal or command prompt and running:"
   ]
  },
  {
   "cell_type": "markdown",
   "metadata": {
    "vscode": {
     "languageId": "plaintext"
    }
   },
   "source": [
    "```\n",
    "mkdir fastapi-app\n",
    "cd fastapi-app\n",
    "```"
   ]
  },
  {
   "cell_type": "markdown",
   "metadata": {
    "vscode": {
     "languageId": "plaintext"
    }
   },
   "source": [
    "Create your FastAPI application file. Inside the fastapi-app directory, create a file named main.py. This file will contain the source code for your FastAPI application. You can create this file using a text editor or by running the following command in the terminal:"
   ]
  },
  {
   "cell_type": "markdown",
   "metadata": {
    "vscode": {
     "languageId": "plaintext"
    }
   },
   "source": [
    "```\n",
    "touch main.py\n",
    "```"
   ]
  },
  {
   "cell_type": "markdown",
   "metadata": {
    "vscode": {
     "languageId": "plaintext"
    }
   },
   "source": [
    "Write your FastAPI application code. Open `main.py` in your editor and add the following Python code. This code defines a basic FastAPI application with a root route (`/`) that returns a JSON response with a greeting message."
   ]
  },
  {
   "cell_type": "code",
   "execution_count": null,
   "metadata": {},
   "outputs": [],
   "source": [
    "from fastapi import FastAPI\n",
    "\n",
    "app = FastAPI()\n",
    "\n",
    "@app.get(\"/\")\n",
    "def read_root():\n",
    "    return {\"message\": \"Hello, Docker!\"}"
   ]
  },
  {
   "cell_type": "markdown",
   "metadata": {},
   "source": [
    "### Step 2: Run FastAPI Application in Docker"
   ]
  },
  {
   "cell_type": "markdown",
   "metadata": {},
   "source": [
    "- Pull the official FastAPI Docker image. The image `tiangolo/uvicorn-gunicorn-fastapi` is designed to run FastAPI applications using Uvicorn as the ASGI server and Gunicorn as the manager. This image comes with everything needed to run your app, so you don't need to create a Dockerfile. Pull the image by running:"
   ]
  },
  {
   "cell_type": "markdown",
   "metadata": {},
   "source": [
    "`docker pull tiangolo/uvicorn-gunicorn-fastapi:python3.7`"
   ]
  },
  {
   "cell_type": "markdown",
   "metadata": {},
   "source": [
    "- Run your FastAPI app in a Docker container. From the terminal, ensure you're in the fastapi-app directory (or the directory containing the `main.py`). Run the following command to start your application in a Docker container, replacing `/path/to/your/app` with the absolute path to your fastapi-app directory:"
   ]
  },
  {
   "cell_type": "markdown",
   "metadata": {},
   "source": [
    "``` docker run -d --name myfastapiapp -p 8000:80 -v /path/to/your/app:/app tiangolo/uvicorn-gunicorn-fastapi:python3.7```"
   ]
  },
  {
   "cell_type": "markdown",
   "metadata": {},
   "source": [
    "Here's what each part of the command does:\n",
    "\n",
    "- `-d` runs the container in detached mode (in the background).\n",
    "- `--name` myfastapiapp gives your container a name for easier reference.\n",
    "- `-p 8000:80` maps port 8000 on your host machine to port 80 inside the container, where your FastAPI application is listening.\n",
    "- `-v /path/to/your/app:/app` mounts the application directory on your host machine to `/app` inside the container. The Docker image is configured to automatically find and run the FastAPI application in this location.\n",
    "- `tiangolo/uvicorn-gunicorn-fastapi:python3.7` specifies the Docker image to use.\n"
   ]
  },
  {
   "cell_type": "markdown",
   "metadata": {},
   "source": [
    "### Step 3:  Access the FastAPI Application"
   ]
  },
  {
   "cell_type": "markdown",
   "metadata": {},
   "source": [
    "- Open a web browser and navigate to `http://localhost:8000`. You should see the message `{\"message\": \"Hello, Docker!\"}` displayed. This confirms that your FastAPI application is running successfully inside a Docker container.\n"
   ]
  },
  {
   "cell_type": "markdown",
   "metadata": {},
   "source": [
    "<img src=\"./imgs/fastapi_app.png\" alt=\"drawing\" width=\"450\"/>"
   ]
  },
  {
   "cell_type": "markdown",
   "metadata": {},
   "source": [
    "## Understanding REST API Calls"
   ]
  },
  {
   "cell_type": "markdown",
   "metadata": {},
   "source": [
    "The above app starts a web server that responds with \"Hello, Docker!\" when accessed. It uses the `GET` method to display the returned message.\n",
    "\n",
    "When interacting with web services, you'll often come across the term REST API. REST (Representational State Transfer) is an architectural style that defines a set of constraints used for creating web services. RESTful services use HTTP requests to perform CRUD (Create, Read, Update, Delete) operations on data.\n",
    "\n",
    "Below we explore some commonly used HTTP methods in RESTful services: `GET`, `POST`, `PUT`, `DELETE`, which can all be easily handled by FastAPI\n",
    "\n",
    "`GET`\n",
    "- Purpose: Used to retrieve data from a server at the specified resource. It should only fetch data and have no other effect. It's considered safe because it doesn't change the state of the server (i.e., it doesn't modify data).\n",
    "- Example: Retrieve the accuracy metrics of a deployed machine learning model.\n",
    "\n",
    "\n",
    "`POST`\n",
    "- Purpose: To send data to the server to create a new resource.\n",
    "- Example:  Submit a new dataset for training a machine learning model.\n",
    "\n",
    "`PUT`\n",
    "- Purpose: To update an existing resource.\n",
    "- Example: Update an existing machine learning model with new parameters.\n",
    "\n",
    "`DELETE`\n",
    "- Purpose: To delete a resource identified by a URI.\n",
    "- Example: Remove a deployed machine learning model from production."
   ]
  }
 ],
 "metadata": {
  "kernelspec": {
   "display_name": "venv_ml",
   "language": "python",
   "name": "python3"
  },
  "language_info": {
   "codemirror_mode": {
    "name": "ipython",
    "version": 3
   },
   "file_extension": ".py",
   "mimetype": "text/x-python",
   "name": "python",
   "nbconvert_exporter": "python",
   "pygments_lexer": "ipython3",
   "version": "3.11.6"
  }
 },
 "nbformat": 4,
 "nbformat_minor": 2
}
