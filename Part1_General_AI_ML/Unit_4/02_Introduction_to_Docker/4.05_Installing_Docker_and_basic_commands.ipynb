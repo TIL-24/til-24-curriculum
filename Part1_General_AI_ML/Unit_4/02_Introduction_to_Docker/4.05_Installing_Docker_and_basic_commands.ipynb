{
 "cells": [
  {
   "cell_type": "markdown",
   "metadata": {},
   "source": [
    "# Installing Docker and Basic Commands\n",
    "\n",
    "## 1. Installing Docker\n",
    "\n",
    "### Windows and Mac:\n",
    "\n",
    "- **Windows:** Docker Desktop for Windows simplifies Docker installation on Windows environments, integrating seamlessly and including Docker Compose.\n",
    "\n",
    "    1. Download the Docker Desktop installer from [Docker](https://docs.docker.com/desktop/install/windows-install/).\n",
    "    2. Execute the installer and follow the on-screen guidance.\n",
    "    3. Docker Desktop will launch post-installation. Create an account on [Docker Hub](https://hub.docker.com/signup) and sign in to proceed.\n",
    "\n",
    "- **Mac:**\n",
    "    1. Download the Docker Desktop installer from [Docker](https://docs.docker.com/desktop/install/mac-install/).\n",
    "    2. Open the `.dmg` file and drag Docker to your Applications folder.\n",
    "    3. Start Docker from Applications to initiate Docker Desktop. Create an account on [Docker Hub](https://hub.docker.com/signup) and sign in to proceed.\n",
    "\n",
    "### Google Cloud Platform:\n",
    "Docker should already be installed in the online developer environment made available to you for this hackathon. "
   ]
  },
  {
   "cell_type": "markdown",
   "metadata": {
    "vscode": {
     "languageId": "plaintext"
    }
   },
   "source": [
    "Once you are done installing Docker, test your Docker installation by running the `docker run hello-world` on terminal"
   ]
  },
  {
   "cell_type": "markdown",
   "metadata": {},
   "source": [
    "<img src=\"./imgs/hello_world.png\" alt=\"drawing\" width=\"450\"/>"
   ]
  },
  {
   "cell_type": "markdown",
   "metadata": {
    "vscode": {
     "languageId": "plaintext"
    }
   },
   "source": [
    "## 2. Basic Docker commands\n",
    "Once you have set up Docker, the next step is to get familiarized with some Docker commands. Let's go through some of the essential ones."
   ]
  },
  {
   "cell_type": "markdown",
   "metadata": {},
   "source": [
    "- **docker run**: Starts a new container from an image. If the image isn't available locally, Docker pulls it from the Docker Hub."
   ]
  },
  {
   "cell_type": "markdown",
   "metadata": {
    "vscode": {
     "languageId": "plaintext"
    }
   },
   "source": [
    "`docker run hello-world`"
   ]
  },
  {
   "cell_type": "markdown",
   "metadata": {},
   "source": [
    "- **docker ps**: Lists all running containers. Use `-a` to see every container, running or not."
   ]
  },
  {
   "cell_type": "markdown",
   "metadata": {},
   "source": [
    "`docker ps -a`"
   ]
  },
  {
   "cell_type": "markdown",
   "metadata": {},
   "source": [
    "- **docker images**:  Shows all images stored locally."
   ]
  },
  {
   "cell_type": "markdown",
   "metadata": {},
   "source": [
    "`docker images`"
   ]
  },
  {
   "cell_type": "markdown",
   "metadata": {},
   "source": [
    "- **docker pull**:  Downloads an image from a registry (Docker Hub, by default)."
   ]
  },
  {
   "cell_type": "markdown",
   "metadata": {},
   "source": [
    "`docker pull <image-name>`"
   ]
  },
  {
   "cell_type": "markdown",
   "metadata": {},
   "source": [
    "- **docker push**: Pushes an image to a registry"
   ]
  },
  {
   "cell_type": "markdown",
   "metadata": {},
   "source": [
    "`docker push <image-name>`"
   ]
  },
  {
   "cell_type": "markdown",
   "metadata": {},
   "source": [
    "- **docker build**:  Builds an image from a Dockerfile. A way to create own custom images.  The `-t` flag specifies the name of the image and the `.` at the end specifies the build context, which is the current directory."
   ]
  },
  {
   "cell_type": "markdown",
   "metadata": {},
   "source": [
    "`docker build`"
   ]
  },
  {
   "cell_type": "markdown",
   "metadata": {},
   "source": [
    "- **docker rmi**:  Removes one or more images. Free up space by deleting images you no longer need."
   ]
  },
  {
   "cell_type": "markdown",
   "metadata": {},
   "source": [
    "`docker rmi <image_id>`"
   ]
  },
  {
   "cell_type": "markdown",
   "metadata": {},
   "source": [
    "- **docker stop**:  Stops a running container. "
   ]
  },
  {
   "cell_type": "markdown",
   "metadata": {},
   "source": [
    "`docker stop <container_id>`"
   ]
  },
  {
   "cell_type": "markdown",
   "metadata": {},
   "source": [
    "- **docker rm**:  Removes one or more containers."
   ]
  },
  {
   "cell_type": "markdown",
   "metadata": {},
   "source": [
    "`docker rm <container_id>`"
   ]
  },
  {
   "cell_type": "markdown",
   "metadata": {},
   "source": [
    "- **docker exec**:  Opens an interactive terminal session inside a running Docker container, allowing you to execute commands directly within that container"
   ]
  },
  {
   "cell_type": "markdown",
   "metadata": {},
   "source": [
    "`docker exec -it <container_id> /bin/bash`"
   ]
  }
 ],
 "metadata": {
  "kernelspec": {
   "display_name": "venv_ml",
   "language": "python",
   "name": "python3"
  },
  "language_info": {
   "codemirror_mode": {
    "name": "ipython",
    "version": 3
   },
   "file_extension": ".py",
   "mimetype": "text/x-python",
   "name": "python",
   "nbconvert_exporter": "python",
   "pygments_lexer": "ipython3",
   "version": "3.11.6"
  }
 },
 "nbformat": 4,
 "nbformat_minor": 2
}
